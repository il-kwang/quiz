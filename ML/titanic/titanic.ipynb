{
 "cells": [
  {
   "cell_type": "code",
   "execution_count": 102,
   "metadata": {},
   "outputs": [],
   "source": [
    "#각각의 요소별 생존 확률을 구한다.\n",
    "#각 성별에 대한 생존 확률\n",
    "#각 클래스에 대한 생존 확률\n",
    "\n",
    "import pandas as pd\n",
    "import numpy as np\n",
    "import matplotlib.pyplot as plt\n",
    "import seaborn as sns\n",
    "#plt.rcParams['font.family'] = 'Malgun Gothic'\n",
    "#plt.rcParams['font.size'] = 10\n",
    "\n",
    "\n",
    "\n",
    "plt.rcParams['font.family'] = 'AppleGothic'  # 맥용 폰트\n",
    "plt.rcParams['font.size'] = 10\n"
   ]
  },
  {
   "cell_type": "code",
   "execution_count": 113,
   "metadata": {},
   "outputs": [
    {
     "name": "stdout",
     "output_type": "stream",
     "text": [
      "PassengerId    0\n",
      "Survived       0\n",
      "Pclass         0\n",
      "Name           0\n",
      "Sex            0\n",
      "Age            0\n",
      "SibSp          0\n",
      "Parch          0\n",
      "Ticket         0\n",
      "Fare           0\n",
      "Cabin          0\n",
      "Embarked       0\n",
      "dtype: int64\n",
      "<class 'pandas.core.frame.DataFrame'>\n",
      "RangeIndex: 891 entries, 0 to 890\n",
      "Data columns (total 12 columns):\n",
      " #   Column       Non-Null Count  Dtype  \n",
      "---  ------       --------------  -----  \n",
      " 0   PassengerId  891 non-null    int64  \n",
      " 1   Survived     891 non-null    int64  \n",
      " 2   Pclass       891 non-null    object \n",
      " 3   Name         891 non-null    object \n",
      " 4   Sex          891 non-null    object \n",
      " 5   Age          891 non-null    object \n",
      " 6   SibSp        891 non-null    int64  \n",
      " 7   Parch        891 non-null    int64  \n",
      " 8   Ticket       891 non-null    object \n",
      " 9   Fare         891 non-null    float64\n",
      " 10  Cabin        891 non-null    object \n",
      " 11  Embarked     891 non-null    object \n",
      "dtypes: float64(1), int64(4), object(7)\n",
      "memory usage: 83.7+ KB\n",
      "   PassengerId  Survived       Pclass  \\\n",
      "0            0         3      \"Braund   \n",
      "1            1         1     \"Cumings   \n",
      "2            1         3   \"Heikkinen   \n",
      "3            1         1    \"Futrelle   \n",
      "4            0         3       \"Allen   \n",
      "\n",
      "                                                Name      Sex     Age  SibSp  \\\n",
      "0   Mr. Owen Harris\"                             ...   male     22         1   \n",
      "1   Mrs. John Bradley (Florence Briggs Thayer)\"  ...   female   38         1   \n",
      "2   Miss. Laina\"                                 ...   female   26         0   \n",
      "3   Mrs. Jacques Heath (Lily May Peel)\"          ...   female   35         1   \n",
      "4   Mr. William Henry\"                           ...   male     35         0   \n",
      "\n",
      "   Parch               Ticket     Fare             Cabin Embarked  \n",
      "0      0   A/5 21171            7.2500                          S  \n",
      "1      0   PC 17599            71.2833   C85                    C  \n",
      "2      0   STON/O2. 3101282     7.9250                          S  \n",
      "3      0   113803              53.1000   C123                   S  \n",
      "4      0   373450               8.0500                          S  \n"
     ]
    }
   ],
   "source": [
    "#데이터 읽기\n",
    "df = pd.read_csv('train.csv')\n",
    "#데이터 프레임의 요약 정보 결측치 확인 #나이 177개 결측치, Cabin 687개 결측치, Embarked 2개 결측치\n",
    "print(df.isnull().sum())\n",
    "df.info() #dtypes: float64(2), int64(5), object(5)\n",
    "print(df.head())\n",
    "\n",
    "# 탭공백 제거\n",
    "df.columns = [col.strip() for col in df.columns]\n",
    "\n",
    "# csv 파일 저장\n",
    "df.to_csv('train.csv', index=False)\n",
    "\n",
    "\n",
    "\n",
    "\n",
    "train_df = pd.read_csv('train.csv') #학습 파일\n",
    "test_df = pd.read_csv('test.csv') #평가 파일\n",
    "\n"
   ]
  },
  {
   "cell_type": "code",
   "execution_count": 104,
   "metadata": {},
   "outputs": [
    {
     "name": "stdout",
     "output_type": "stream",
     "text": [
      "     PassengerId  Survived       Pclass  \\\n",
      "1              0         3      \"Braund   \n",
      "2              1         1     \"Cumings   \n",
      "3              1         3   \"Heikkinen   \n",
      "4              1         1    \"Futrelle   \n",
      "5              0         3       \"Allen   \n",
      "..           ...       ...          ...   \n",
      "887            0         2    \"Montvila   \n",
      "888            1         1      \"Graham   \n",
      "889            0         3    \"Johnston   \n",
      "890            1         1        \"Behr   \n",
      "891            0         3      \"Dooley   \n",
      "\n",
      "                                                  Name      Sex     Age  \\\n",
      "1     Mr. Owen Harris\"                             ...   male     22      \n",
      "2     Mrs. John Bradley (Florence Briggs Thayer)\"  ...   female   38      \n",
      "3     Miss. Laina\"                                 ...   female   26      \n",
      "4     Mrs. Jacques Heath (Lily May Peel)\"          ...   female   35      \n",
      "5     Mr. William Henry\"                           ...   male     35      \n",
      "..                                                 ...      ...     ...   \n",
      "887   Rev. Juozas\"                                 ...   male     27      \n",
      "888   Miss. Margaret Edith\"                        ...   female   19      \n",
      "889   Miss. Catherine Helen \"\"Carrie\"\"\"            ...   female           \n",
      "890   Mr. Karl Howell\"                             ...   male     26      \n",
      "891   Mr. Patrick\"                                 ...   male     32      \n",
      "\n",
      "     SibSp  Parch               Ticket     Fare             Cabin Embarked  \n",
      "1        1      0   A/5 21171            7.2500                          S  \n",
      "2        1      0   PC 17599            71.2833   C85                    C  \n",
      "3        0      0   STON/O2. 3101282     7.9250                          S  \n",
      "4        1      0   113803              53.1000   C123                   S  \n",
      "5        0      0   373450               8.0500                          S  \n",
      "..     ...    ...                  ...      ...               ...      ...  \n",
      "887      0      0   211536              13.0000                          S  \n",
      "888      0      0   112053              30.0000   B42                    S  \n",
      "889      1      2   W./C. 6607          23.4500                          S  \n",
      "890      0      0   111369              30.0000   C148                   C  \n",
      "891      0      0   370376               7.7500                          Q  \n",
      "\n",
      "[891 rows x 12 columns]\n"
     ]
    }
   ],
   "source": [
    "#데이터 프레임 출력\n",
    "print(df)"
   ]
  },
  {
   "cell_type": "code",
   "execution_count": 105,
   "metadata": {},
   "outputs": [
    {
     "name": "stdout",
     "output_type": "stream",
     "text": [
      "전체 승객 수 : 891\n",
      "전체 승객 중 생존자 수 : 2057\n"
     ]
    }
   ],
   "source": [
    "# 전체 승객 수\n",
    "PassengerId = df['PassengerId'].count()\n",
    "print(f'전체 승객 수 : {PassengerId}')\n",
    "# 전체 승객 중 생존자 수\n",
    "print(f'전체 승객 중 생존자 수 : {df[\"Survived\"].sum()}')\n"
   ]
  },
  {
   "cell_type": "code",
   "execution_count": 108,
   "metadata": {},
   "outputs": [
    {
     "name": "stdout",
     "output_type": "stream",
     "text": [
      "전체 생존자 비율 : 2.308641975308642\n",
      "생존자 중 여자 생존자 비율: 0.0\n",
      "생존자 중 남자 생존자 비율: 0.0\n"
     ]
    },
    {
     "data": {
      "image/png": "[encoded data removed]",
      "text/plain": [
       "<Figure size 432x288 with 1 Axes>"
      ]
     },
     "metadata": {},
     "output_type": "display_data"
    }
   ],
   "source": [
    "#전체 생존자 비율 생존자 = 1, 사망자 = 0\n",
    "print(f\"전체 생존자 비율 : {df['Survived'].mean()}\")\n",
    "\n",
    "# 생존자만 선택\n",
    "survived = df[df['Survived'] == 1]\n",
    "# 사망자만 선택\n",
    "dead = df[df['Survived'] == 0]\n",
    "\n",
    "# 생존자 중 남자 여자 비율\n",
    "female_survived = survived[survived['Sex'] == 'female']\n",
    "male_survived = survived[survived['Sex'] == 'male']\n",
    "\n",
    "female_survived_ratio = len(female_survived)/len(survived)\n",
    "male_survived_ratio = len(male_survived)/len(survived)\n",
    "\n",
    "print('생존자 중 여자 생존자 비율:', female_survived_ratio)\n",
    "print('생존자 중 남자 생존자 비율:', male_survived_ratio)\n",
    "\n",
    "# 성별에 따른 생존 비율 그래프\n",
    "plt.pie([female_survived_ratio, male_survived_ratio], labels=['여자', '남자'], autopct='%1.1f%%')\n",
    "plt.title('성별에 따른 생존 비율')\n",
    "plt.show()"
   ]
  },
  {
   "cell_type": "code",
   "execution_count": 107,
   "metadata": {},
   "outputs": [
    {
     "name": "stdout",
     "output_type": "stream",
     "text": [
      "전체 사망자 비율 : -1.308641975308642\n"
     ]
    },
    {
     "ename": "ZeroDivisionError",
     "evalue": "division by zero",
     "output_type": "error",
     "traceback": [
      "\u001b[0;31m---------------------------------------------------------------------------\u001b[0m",
      "\u001b[0;31mZeroDivisionError\u001b[0m                         Traceback (most recent call last)",
      "\u001b[0;32m<ipython-input-107-0b8f8761c643>\u001b[0m in \u001b[0;36m<module>\u001b[0;34m\u001b[0m\n\u001b[1;32m      6\u001b[0m \u001b[0mmale_dead\u001b[0m \u001b[0;34m=\u001b[0m \u001b[0mdead\u001b[0m\u001b[0;34m[\u001b[0m\u001b[0mdead\u001b[0m\u001b[0;34m[\u001b[0m\u001b[0;34m'Sex'\u001b[0m\u001b[0;34m]\u001b[0m \u001b[0;34m==\u001b[0m \u001b[0;34m'male'\u001b[0m\u001b[0;34m]\u001b[0m\u001b[0;34m\u001b[0m\u001b[0;34m\u001b[0m\u001b[0m\n\u001b[1;32m      7\u001b[0m \u001b[0;34m\u001b[0m\u001b[0m\n\u001b[0;32m----> 8\u001b[0;31m \u001b[0mfemale_dead_ratio\u001b[0m \u001b[0;34m=\u001b[0m \u001b[0mlen\u001b[0m\u001b[0;34m(\u001b[0m\u001b[0mfemale_dead\u001b[0m\u001b[0;34m)\u001b[0m\u001b[0;34m/\u001b[0m\u001b[0mlen\u001b[0m\u001b[0;34m(\u001b[0m\u001b[0mdead\u001b[0m\u001b[0;34m)\u001b[0m\u001b[0;34m\u001b[0m\u001b[0;34m\u001b[0m\u001b[0m\n\u001b[0m\u001b[1;32m      9\u001b[0m \u001b[0mmale_dead_ratio\u001b[0m \u001b[0;34m=\u001b[0m \u001b[0mlen\u001b[0m\u001b[0;34m(\u001b[0m\u001b[0mmale_dead\u001b[0m\u001b[0;34m)\u001b[0m\u001b[0;34m/\u001b[0m\u001b[0mlen\u001b[0m\u001b[0;34m(\u001b[0m\u001b[0mdead\u001b[0m\u001b[0;34m)\u001b[0m\u001b[0;34m\u001b[0m\u001b[0;34m\u001b[0m\u001b[0m\n\u001b[1;32m     10\u001b[0m \u001b[0;34m\u001b[0m\u001b[0m\n",
      "\u001b[0;31mZeroDivisionError\u001b[0m: division by zero"
     ]
    }
   ],
   "source": [
    "#전체 사망지 비율\n",
    "print(f\"전체 사망자 비율 : {1 - df['Survived'].mean()}\")\n",
    "#\n",
    "\n",
    "female_dead = dead[dead['Sex'] == 'female']\n",
    "male_dead = dead[dead['Sex'] == 'male']\n",
    "\n",
    "female_dead_ratio = len(female_dead)/len(dead)\n",
    "male_dead_ratio = len(male_dead)/len(dead)\n",
    "\n",
    "print('전체 사망자 중 여자 사망자  :', len(female_dead)/len(dead))\n",
    "print('전체 사망자 중 남자 사망자  :', len(male_dead)/len(dead))\n",
    "#성별에 따른 사망 비율\n",
    "plt.pie([female_dead_ratio,male_dead_ratio], labels=['여자', '남자'], autopct='%1.1f%%')\n",
    "plt.title('성별에 따른 사망 비율')\n",
    "plt.show()\n"
   ]
  },
  {
   "cell_type": "code",
   "execution_count": null,
   "metadata": {},
   "outputs": [
    {
     "name": "stdout",
     "output_type": "stream",
     "text": [
      "등급별 생존 확률 \n",
      "Pclass\n",
      "1    0.629630\n",
      "2    0.472826\n",
      "3    0.242363\n",
      "Name: Survived, dtype: float64\n"
     ]
    },
    {
     "data": {
      "image/png": "[encoded data removed]",
      "text/plain": [
       "<Figure size 432x288 with 1 Axes>"
      ]
     },
     "metadata": {
      "needs_background": "light"
     },
     "output_type": "display_data"
    }
   ],
   "source": [
    "#좌석 등급별 생존자 비율\n",
    "#좌석 등급에 따라 생존자 비율이 달라지는지 확인 등급은 총 3가지가 있음\n",
    "\n",
    "print(f\"등급별 생존 확률 \\n{df.groupby('Pclass')['Survived'].mean()}\")\n",
    "#좌석 등급별 생존자 비율 시각화\n",
    "sns.barplot(data=df, x='Pclass', y='Survived')\n",
    "plt.show()\n",
    "#그래프로 알 수 있는 것은 1등급이 생존률이 높고 3등급이 낮다\n",
    "#3등급의 경우 생존률이 25%도 되지 않는다.\n",
    "#1등급의 경우 생존률이 63%에 달한다.\n",
    "#좌석 등급에 따라 생존률이 달라지는 것을 알 수 있다.\n",
    "\n",
    "\n"
   ]
  },
  {
   "cell_type": "code",
   "execution_count": null,
   "metadata": {},
   "outputs": [
    {
     "name": "stdout",
     "output_type": "stream",
     "text": [
      "Pclass\n",
      "1    84.154687\n",
      "2    20.662183\n",
      "3    13.675550\n",
      "Name: Fare, dtype: float64\n"
     ]
    }
   ],
   "source": [
    "#등급별 티켓 가격 \n",
    "\n",
    "Fare_cleass = df.groupby('Pclass').mean()['Fare']\n",
    "print(Fare_cleass)\n"
   ]
  },
  {
   "cell_type": "code",
   "execution_count": null,
   "metadata": {},
   "outputs": [
    {
     "data": {
      "image/png": "[encoded data removed]",
      "text/plain": [
       "<Figure size 432x288 with 1 Axes>"
      ]
     },
     "metadata": {
      "needs_background": "light"
     },
     "output_type": "display_data"
    }
   ],
   "source": [
    "#나이에 따른 생존 확률\n",
    "#나이대를 구분 10대 미만 10대 20대 30대 40대 50대 60대 70대 이상\n",
    "\n",
    "def age_group(age):\n",
    "    if age < 10:\n",
    "        return '10대 미만'\n",
    "    elif age < 20:\n",
    "        return '10대'\n",
    "    elif age < 30:\n",
    "        return '20대'\n",
    "    elif age < 40:\n",
    "        return '30대'\n",
    "    elif age < 50:\n",
    "        return '40대'\n",
    "    elif age < 60:\n",
    "        return '50대'\n",
    "    elif age < 70:\n",
    "        return '60대'\n",
    "    else:\n",
    "        return '70대 이상'\n",
    "    \n",
    "#승객 나이 통계 확인하기\n",
    "df['Age'].describe()\n",
    "#승객 나이에 따라 분류하기\n",
    "df['Age_group'] = df['Age'].apply(age_group)\n",
    "#승객 나이에 따른 생존 확률\n",
    "df.groupby('Age_group')['Survived'].mean()\n",
    "#승객 나이에 따른 생존 확률 시각화\n",
    "sns.barplot(x='Age_group', y='Survived', data=df)\n",
    "plt.show()"
   ]
  },
  {
   "cell_type": "code",
   "execution_count": null,
   "metadata": {},
   "outputs": [
    {
     "name": "stdout",
     "output_type": "stream",
     "text": [
      "     PassengerId  Survived  Pclass                                   Name  \\\n",
      "258          259         1       1                       Ward, Miss. Anna   \n",
      "737          738         1       1                 Lesurer, Mr. Gustave J   \n",
      "679          680         1       1     Cardeza, Mr. Thomas Drake Martinez   \n",
      "88            89         1       1             Fortune, Miss. Mabel Helen   \n",
      "27            28         0       1         Fortune, Mr. Charles Alexander   \n",
      "341          342         1       1         Fortune, Miss. Alice Elizabeth   \n",
      "438          439         0       1                      Fortune, Mr. Mark   \n",
      "311          312         1       1             Ryerson, Miss. Emily Borie   \n",
      "742          743         1       1  Ryerson, Miss. Susan Parker \"Suzette\"   \n",
      "118          119         0       1               Baxter, Mr. Quigg Edmond   \n",
      "\n",
      "        Sex   Age  SibSp  Parch    Ticket      Fare            Cabin Embarked  \\\n",
      "258  female  35.0      0      0  PC 17755  512.3292              NaN        C   \n",
      "737    male  35.0      0      0  PC 17755  512.3292             B101        C   \n",
      "679    male  36.0      0      1  PC 17755  512.3292      B51 B53 B55        C   \n",
      "88   female  23.0      3      2     19950  263.0000      C23 C25 C27        S   \n",
      "27     male  19.0      3      2     19950  263.0000      C23 C25 C27        S   \n",
      "341  female  24.0      3      2     19950  263.0000      C23 C25 C27        S   \n",
      "438    male  64.0      1      4     19950  263.0000      C23 C25 C27        S   \n",
      "311  female  18.0      2      2  PC 17608  262.3750  B57 B59 B63 B66        C   \n",
      "742  female  21.0      2      2  PC 17608  262.3750  B57 B59 B63 B66        C   \n",
      "118    male  24.0      0      1  PC 17558  247.5208          B58 B60        C   \n",
      "\n",
      "    Age_group           FareBand  \n",
      "258       30대  (39.688, 512.329]  \n",
      "737       30대  (39.688, 512.329]  \n",
      "679       30대  (39.688, 512.329]  \n",
      "88        20대  (39.688, 512.329]  \n",
      "27        10대  (39.688, 512.329]  \n",
      "341       20대  (39.688, 512.329]  \n",
      "438       60대  (39.688, 512.329]  \n",
      "311       10대  (39.688, 512.329]  \n",
      "742       20대  (39.688, 512.329]  \n",
      "118       20대  (39.688, 512.329]  \n",
      "     PassengerId  Survived  Pclass                              Name   Sex  \\\n",
      "481          482         0       2  Frost, Mr. Anthony Wood \"Archie\"  male   \n",
      "302          303         0       3   Johnson, Mr. William Cahoone Jr  male   \n",
      "179          180         0       3               Leonard, Mr. Lionel  male   \n",
      "263          264         0       1             Harrison, Mr. William  male   \n",
      "815          816         0       1                  Fry, Mr. Richard  male   \n",
      "633          634         0       1     Parr, Mr. William Henry Marsh  male   \n",
      "413          414         0       2    Cunningham, Mr. Alfred Fleming  male   \n",
      "822          823         0       1   Reuchlin, Jonkheer. John George  male   \n",
      "732          733         0       2              Knight, Mr. Robert J  male   \n",
      "674          675         0       2        Watson, Mr. Ennis Hastings  male   \n",
      "\n",
      "      Age  SibSp  Parch  Ticket  Fare Cabin Embarked Age_group  \\\n",
      "481   NaN      0      0  239854   0.0   NaN        S    70대 이상   \n",
      "302  19.0      0      0    LINE   0.0   NaN        S       10대   \n",
      "179  36.0      0      0    LINE   0.0   NaN        S       30대   \n",
      "263  40.0      0      0  112059   0.0   B94        S       40대   \n",
      "815   NaN      0      0  112058   0.0  B102        S    70대 이상   \n",
      "633   NaN      0      0  112052   0.0   NaN        S    70대 이상   \n",
      "413   NaN      0      0  239853   0.0   NaN        S    70대 이상   \n",
      "822  38.0      0      0   19972   0.0   NaN        S       30대   \n",
      "732   NaN      0      0  239855   0.0   NaN        S    70대 이상   \n",
      "674   NaN      0      0  239856   0.0   NaN        S    70대 이상   \n",
      "\n",
      "            FareBand  \n",
      "481  (-0.001, 7.854]  \n",
      "302  (-0.001, 7.854]  \n",
      "179  (-0.001, 7.854]  \n",
      "263  (-0.001, 7.854]  \n",
      "815  (-0.001, 7.854]  \n",
      "633  (-0.001, 7.854]  \n",
      "413  (-0.001, 7.854]  \n",
      "822  (-0.001, 7.854]  \n",
      "732  (-0.001, 7.854]  \n",
      "674  (-0.001, 7.854]  \n"
     ]
    }
   ],
   "source": [
    "#운임비용에 따른 생존율\n",
    "#운임비용이 높으면 생존율이 높을지에 대해서 Fare를 기준으로 분석\n",
    "#\n",
    "\n",
    "df['Fare'].describe()\n",
    "#5\n",
    "df['FareBand'] = pd.qcut(df['Fare'], 5)\n",
    "df[['FareBand', 'Survived']].groupby(['FareBand'], as_index=False).mean().sort_values(by='FareBand', ascending=True)\n",
    "#200불 이상은 생존율이 높다.\n",
    "\n",
    "'''print(df['Fare'].min()) #요금에 이상치 있는지 확인 시 0원이 있음\n",
    "\n",
    "print(df['Fare'].max())'''\n",
    "\n",
    "df_sorted = df.sort_values(by='Fare', ascending=False)\n",
    "high_10 = df_sorted.head(10)\n",
    "low_10 = df_sorted.tail(10)\n",
    "\n",
    "print(high_10)\n",
    "print(low_10)\n",
    "\n"
   ]
  },
  {
   "cell_type": "code",
   "execution_count": null,
   "metadata": {},
   "outputs": [
    {
     "name": "stdout",
     "output_type": "stream",
     "text": [
      "탑승 항구 별 생존 확률 \n",
      "Embarked\n",
      "C    0.553571\n",
      "Q    0.389610\n",
      "S    0.336957\n",
      "Name: Survived, dtype: float64\n"
     ]
    },
    {
     "data": {
      "image/png": "[encoded data removed]",
      "text/plain": [
       "<Figure size 432x288 with 1 Axes>"
      ]
     },
     "metadata": {
      "needs_background": "light"
     },
     "output_type": "display_data"
    },
    {
     "name": "stdout",
     "output_type": "stream",
     "text": [
      "항구 별 가격 평균\n",
      "Embarked\n",
      "C    59.954144\n",
      "Q    13.276030\n",
      "S    27.079812\n",
      "Name: Fare, dtype: float64\n",
      "항구 별 티켓 등급\n",
      "Embarked\n",
      "C    1.886905\n",
      "Q    2.909091\n",
      "S    2.350932\n",
      "Name: Pclass, dtype: float64\n"
     ]
    }
   ],
   "source": [
    "#탑승 항구에 따라 생존률이 달라지는지 확인\n",
    "\n",
    "\n",
    "print(f\"탑승 항구 별 생존 확률 \\n{df.groupby('Embarked')['Survived'].mean()}\")\n",
    "#좌석 등급별 생존자 비율 시각화\n",
    "sns.barplot(data=df, x='Embarked', y='Survived')\n",
    "plt.title('탑승 항구 별 생존 확률')\n",
    "plt.xlabel('항구')\n",
    "plt.ylabel('생존확률')\n",
    "plt.show()\n",
    "\n",
    "print(f\"항구 별 가격 평균\\n{df.groupby('Embarked')['Fare'].mean()}\" )\n",
    "print(f\"항구 별 티켓 등급\\n{df.groupby('Embarked')['Pclass'].mean()}\")"
   ]
  },
  {
   "cell_type": "code",
   "execution_count": null,
   "metadata": {},
   "outputs": [
    {
     "name": "stdout",
     "output_type": "stream",
     "text": [
      "0    374\n",
      "1    163\n",
      "Name: Survived, dtype: int64\n",
      "0    151\n",
      "1    132\n",
      "Name: Survived, dtype: int64\n"
     ]
    }
   ],
   "source": [
    "# Sibsp 과 Parch 0인 경우 혼자 탑승\n",
    "# 1이상인 경우 동승자 있음\n",
    "\n",
    "alone = df[df['SibSp'] == 0]\n",
    "alone = alone[alone['Parch'] == 0]\n",
    "print(alone['Survived'].value_counts())\n",
    "\n",
    "\n",
    "#동승자가 있는 경우 생존률이 더 높은지 확인\n",
    "#동승자가 있는 사람\n",
    "Sibsp_Parch = df[df['SibSp'] > 0]\n",
    "Sibsp_parch = Sibsp_Parch[Sibsp_Parch['Parch'] > 0]\n",
    "print(Sibsp_Parch['Survived'].value_counts())\n",
    "\n",
    "#동승자가 있는 경우 생존률이 더 높음"
   ]
  },
  {
   "cell_type": "code",
   "execution_count": null,
   "metadata": {},
   "outputs": [],
   "source": [
    "#모델 학습 시키기\n",
    "from sklearn.model_selection import train_test_split\n",
    "from sklearn.ensemble import RandomForestClassifier\n",
    "from sklearn.metrics import accuracy_score\n",
    "from sklearn.metrics import confusion_matrix\n",
    "\n",
    "import seaborn as sns\n"
   ]
  },
  {
   "cell_type": "code",
   "execution_count": null,
   "metadata": {},
   "outputs": [
    {
     "name": "stdout",
     "output_type": "stream",
     "text": [
      "     PassengerId  Survived       Pclass  \\\n",
      "1              0         3      \"Braund   \n",
      "2              1         1     \"Cumings   \n",
      "3              1         3   \"Heikkinen   \n",
      "4              1         1    \"Futrelle   \n",
      "5              0         3       \"Allen   \n",
      "..           ...       ...          ...   \n",
      "887            0         2    \"Montvila   \n",
      "888            1         1      \"Graham   \n",
      "889            0         3    \"Johnston   \n",
      "890            1         1        \"Behr   \n",
      "891            0         3      \"Dooley   \n",
      "\n",
      "     Name                                                                                  \\\n",
      "1     Mr. Owen Harris\"                             ...                                      \n",
      "2     Mrs. John Bradley (Florence Briggs Thayer)\"  ...                                      \n",
      "3     Miss. Laina\"                                 ...                                      \n",
      "4     Mrs. Jacques Heath (Lily May Peel)\"          ...                                      \n",
      "5     Mr. William Henry\"                           ...                                      \n",
      "..                                                 ...                                      \n",
      "887   Rev. Juozas\"                                 ...                                      \n",
      "888   Miss. Margaret Edith\"                        ...                                      \n",
      "889   Miss. Catherine Helen \"\"Carrie\"\"\"            ...                                      \n",
      "890   Mr. Karl Howell\"                             ...                                      \n",
      "891   Mr. Patrick\"                                 ...                                      \n",
      "\n",
      "      Sex      Age     SibSp   Parch   Ticket               Fare      \\\n",
      "1     male     22          1       0   A/5 21171              7.2500   \n",
      "2     female   38          1       0   PC 17599              71.2833   \n",
      "3     female   26          0       0   STON/O2. 3101282       7.9250   \n",
      "4     female   35          1       0   113803                53.1000   \n",
      "5     male     35          0       0   373450                 8.0500   \n",
      "..       ...     ...     ...     ...                  ...        ...   \n",
      "887   male     27          0       0   211536                13.0000   \n",
      "888   female   19          0       0   112053                30.0000   \n",
      "889   female               1       2   W./C. 6607            23.4500   \n",
      "890   male     26          0       0   111369                30.0000   \n",
      "891   male     32          0       0   370376                 7.7500   \n",
      "\n",
      "      Cabin            Embarked  \n",
      "1                             S  \n",
      "2     C85                     C  \n",
      "3                             S  \n",
      "4     C123                    S  \n",
      "5                             S  \n",
      "..                ...       ...  \n",
      "887                           S  \n",
      "888   B42                     S  \n",
      "889                           S  \n",
      "890   C148                    C  \n",
      "891                           Q  \n",
      "\n",
      "[891 rows x 12 columns]\n",
      "Index(['PassengerId', 'Survived', ' Pclass',\n",
      "       ' Name                                                                                ',\n",
      "       ' Sex   ', ' Age  ', ' SibSp', ' Parch', ' Ticket            ',\n",
      "       ' Fare    ', ' Cabin          ', ' Embarked'],\n",
      "      dtype='object')\n",
      "데이터프레임에 'Age' 열이 존재하지 않습니다.\n"
     ]
    },
    {
     "data": {
      "text/plain": [
       "\"\\ntrain_df = train_df.dropna(subset=['Age'])\\n\\n# 데이터셋을 훈련셋과 테스트셋으로 나눔\\nX = train_df.drop(['Survived', 'Name', 'Ticket', 'Cabin'], axis=1)\\ny = train_df['Survived']\\nX_train, X_test, y_train, y_test = train_test_split(X, y, test_size=0.2, random_state=42)\\n\\n\\n\\nmodel = RandomForestClassifier()\\nmodel.fit(X, Y)\\n\\n#모델 평가\\ny_pred = model.predict(X)\""
      ]
     },
     "execution_count": 101,
     "metadata": {},
     "output_type": "execute_result"
    }
   ],
   "source": [
    "# 학습 데이터 전처리 (나이 결측치 제거, )\n",
    "print(train_df)\n",
    "print(train_df.columns)\n",
    "if 'Age' in train_df.columns:\n",
    "    train_df = train_df.dropna(subset=['Age'])\n",
    "else:\n",
    "    print(\"데이터프레임에 'Age' 열이 존재하지 않습니다.\")\n",
    "'''\n",
    "train_df = train_df.dropna(subset=['Age'])\n",
    "\n",
    "# 데이터셋을 훈련셋과 테스트셋으로 나눔\n",
    "X = train_df.drop(['Survived', 'Name', 'Ticket', 'Cabin'], axis=1)\n",
    "y = train_df['Survived']\n",
    "X_train, X_test, y_train, y_test = train_test_split(X, y, test_size=0.2, random_state=42)\n",
    "\n",
    "\n",
    "\n",
    "model = RandomForestClassifier()\n",
    "model.fit(X, Y)\n",
    "\n",
    "#모델 평가\n",
    "y_pred = model.predict(X)'''\n"
   ]
  }
 ],
 "metadata": {
  "kernelspec": {
   "display_name": "base",
   "language": "python",
   "name": "python3"
  },
  "language_info": {
   "codemirror_mode": {
    "name": "ipython",
    "version": 3
   },
   "file_extension": ".py",
   "mimetype": "text/x-python",
   "name": "python",
   "nbconvert_exporter": "python",
   "pygments_lexer": "ipython3",
   "version": "3.8.3"
  }
 },
 "nbformat": 4,
 "nbformat_minor": 2
}
