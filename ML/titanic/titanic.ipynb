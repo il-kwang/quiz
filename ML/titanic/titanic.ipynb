{
 "cells": [
  {
   "cell_type": "code",
   "execution_count": 314,
   "metadata": {},
   "outputs": [],
   "source": [
    "#각각의 요소별 생존 확률을 구한다.\n",
    "#각 성별에 대한 생존 확률\n",
    "#각 클래스에 대한 생존 확률\n",
    "\n",
    "import pandas as pd\n",
    "import numpy as np\n",
    "import matplotlib.pyplot as plt\n",
    "import seaborn as sns\n",
    "import xgboost as xgb\n",
    "plt.rcParams['font.family'] = 'Malgun Gothic'\n",
    "plt.rcParams['font.size'] = 10\n",
    "from sklearn.feature_selection import SelectKBest, f_classif\n",
    "from sklearn.metrics import accuracy_score, confusion_matrix\n",
    "from sklearn.preprocessing import LabelEncoder\n",
    "from sklearn.tree import DecisionTreeClassifier\n",
    "\n",
    "\n",
    "\n",
    "#plt.rcParams['font.family'] = 'AppleGothic'  # 맥용 폰트\n",
    "#plt.rcParams['font.size'] = 10\n"
   ]
  },
  {
   "cell_type": "code",
   "execution_count": 315,
   "metadata": {},
   "outputs": [
    {
     "name": "stdout",
     "output_type": "stream",
     "text": [
      "PassengerId      0\n",
      "Survived         0\n",
      "Pclass           0\n",
      "Name             0\n",
      "Sex              0\n",
      "Age            177\n",
      "SibSp            0\n",
      "Parch            0\n",
      "Ticket           0\n",
      "Fare             0\n",
      "Cabin          687\n",
      "Embarked         2\n",
      "dtype: int64\n",
      "<class 'pandas.core.frame.DataFrame'>\n",
      "RangeIndex: 891 entries, 0 to 890\n",
      "Data columns (total 12 columns):\n",
      " #   Column       Non-Null Count  Dtype  \n",
      "---  ------       --------------  -----  \n",
      " 0   PassengerId  891 non-null    int64  \n",
      " 1   Survived     891 non-null    int64  \n",
      " 2   Pclass       891 non-null    int64  \n",
      " 3   Name         891 non-null    object \n",
      " 4   Sex          891 non-null    object \n",
      " 5   Age          714 non-null    float64\n",
      " 6   SibSp        891 non-null    int64  \n",
      " 7   Parch        891 non-null    int64  \n",
      " 8   Ticket       891 non-null    object \n",
      " 9   Fare         891 non-null    float64\n",
      " 10  Cabin        204 non-null    object \n",
      " 11  Embarked     889 non-null    object \n",
      "dtypes: float64(2), int64(5), object(5)\n",
      "memory usage: 83.7+ KB\n",
      "   PassengerId  Survived  Pclass  \\\n",
      "0            1         0       3   \n",
      "1            2         1       1   \n",
      "2            3         1       3   \n",
      "3            4         1       1   \n",
      "4            5         0       3   \n",
      "\n",
      "                                                Name     Sex   Age  SibSp  \\\n",
      "0                            Braund, Mr. Owen Harris    male  22.0      1   \n",
      "1  Cumings, Mrs. John Bradley (Florence Briggs Th...  female  38.0      1   \n",
      "2                             Heikkinen, Miss. Laina  female  26.0      0   \n",
      "3       Futrelle, Mrs. Jacques Heath (Lily May Peel)  female  35.0      1   \n",
      "4                           Allen, Mr. William Henry    male  35.0      0   \n",
      "\n",
      "   Parch            Ticket     Fare Cabin Embarked  \n",
      "0      0         A/5 21171   7.2500   NaN        S  \n",
      "1      0          PC 17599  71.2833   C85        C  \n",
      "2      0  STON/O2. 3101282   7.9250   NaN        S  \n",
      "3      0            113803  53.1000  C123        S  \n",
      "4      0            373450   8.0500   NaN        S  \n"
     ]
    }
   ],
   "source": [
    "#데이터 읽기\n",
    "df = pd.read_csv('train.csv')\n",
    "#데이터 프레임의 요약 정보 결측치 확인 #나이 177개 결측치, Cabin 687개 결측치, Embarked 2개 결측치\n",
    "print(df.isnull().sum())\n",
    "df.info() #dtypes: float64(2), int64(5), object(5)\n",
    "print(df.head())\n",
    "\n",
    "\n",
    "\n",
    "\n",
    "train_df = pd.read_csv('train.csv') #학습 파일\n",
    "test_df = pd.read_csv('test.csv') #평가 파일\n",
    "\n"
   ]
  },
  {
   "cell_type": "code",
   "execution_count": 316,
   "metadata": {},
   "outputs": [
    {
     "name": "stdout",
     "output_type": "stream",
     "text": [
      "     PassengerId  Survived  Pclass  \\\n",
      "0              1         0       3   \n",
      "1              2         1       1   \n",
      "2              3         1       3   \n",
      "3              4         1       1   \n",
      "4              5         0       3   \n",
      "..           ...       ...     ...   \n",
      "886          887         0       2   \n",
      "887          888         1       1   \n",
      "888          889         0       3   \n",
      "889          890         1       1   \n",
      "890          891         0       3   \n",
      "\n",
      "                                                  Name     Sex   Age  SibSp  \\\n",
      "0                              Braund, Mr. Owen Harris    male  22.0      1   \n",
      "1    Cumings, Mrs. John Bradley (Florence Briggs Th...  female  38.0      1   \n",
      "2                               Heikkinen, Miss. Laina  female  26.0      0   \n",
      "3         Futrelle, Mrs. Jacques Heath (Lily May Peel)  female  35.0      1   \n",
      "4                             Allen, Mr. William Henry    male  35.0      0   \n",
      "..                                                 ...     ...   ...    ...   \n",
      "886                              Montvila, Rev. Juozas    male  27.0      0   \n",
      "887                       Graham, Miss. Margaret Edith  female  19.0      0   \n",
      "888           Johnston, Miss. Catherine Helen \"Carrie\"  female   NaN      1   \n",
      "889                              Behr, Mr. Karl Howell    male  26.0      0   \n",
      "890                                Dooley, Mr. Patrick    male  32.0      0   \n",
      "\n",
      "     Parch            Ticket     Fare Cabin Embarked  \n",
      "0        0         A/5 21171   7.2500   NaN        S  \n",
      "1        0          PC 17599  71.2833   C85        C  \n",
      "2        0  STON/O2. 3101282   7.9250   NaN        S  \n",
      "3        0            113803  53.1000  C123        S  \n",
      "4        0            373450   8.0500   NaN        S  \n",
      "..     ...               ...      ...   ...      ...  \n",
      "886      0            211536  13.0000   NaN        S  \n",
      "887      0            112053  30.0000   B42        S  \n",
      "888      2        W./C. 6607  23.4500   NaN        S  \n",
      "889      0            111369  30.0000  C148        C  \n",
      "890      0            370376   7.7500   NaN        Q  \n",
      "\n",
      "[891 rows x 12 columns]\n"
     ]
    }
   ],
   "source": [
    "#데이터 프레임 출력\n",
    "print(df)"
   ]
  },
  {
   "cell_type": "code",
   "execution_count": 317,
   "metadata": {},
   "outputs": [
    {
     "name": "stdout",
     "output_type": "stream",
     "text": [
      "전체 승객 수 : 891\n",
      "전체 승객 중 생존자 수 : 342\n"
     ]
    }
   ],
   "source": [
    "# 전체 승객 수\n",
    "PassengerId = df['PassengerId'].count()\n",
    "print(f'전체 승객 수 : {PassengerId}')\n",
    "# 전체 승객 중 생존자 수\n",
    "print(f'전체 승객 중 생존자 수 : {df[\"Survived\"].sum()}')\n"
   ]
  },
  {
   "cell_type": "code",
   "execution_count": 318,
   "metadata": {},
   "outputs": [
    {
     "name": "stdout",
     "output_type": "stream",
     "text": [
      "전체 생존자 비율 : 0.3838383838383838\n",
      "생존자 중 여자 생존자 비율: 0.6812865497076024\n",
      "생존자 중 남자 생존자 비율: 0.31871345029239767\n"
     ]
    },
    {
     "data": {
      "image/png": "[encoded data removed]",
      "text/plain": [
       "<Figure size 640x480 with 1 Axes>"
      ]
     },
     "metadata": {},
     "output_type": "display_data"
    }
   ],
   "source": [
    "#전체 생존자 비율 생존자 = 1, 사망자 = 0\n",
    "print(f\"전체 생존자 비율 : {df['Survived'].mean()}\")\n",
    "\n",
    "# 생존자만 선택\n",
    "survived = df[df['Survived'] == 1]\n",
    "# 사망자만 선택\n",
    "dead = df[df['Survived'] == 0]\n",
    "\n",
    "# 생존자 중 남자 여자 비율\n",
    "female_survived = survived[survived['Sex'] == 'female']\n",
    "male_survived = survived[survived['Sex'] == 'male']\n",
    "\n",
    "female_survived_ratio = len(female_survived)/len(survived)\n",
    "male_survived_ratio = len(male_survived)/len(survived)\n",
    "\n",
    "print('생존자 중 여자 생존자 비율:', female_survived_ratio)\n",
    "print('생존자 중 남자 생존자 비율:', male_survived_ratio)\n",
    "\n",
    "# 성별에 따른 생존 비율 그래프\n",
    "plt.pie([female_survived_ratio, male_survived_ratio], labels=['여자', '남자'], autopct='%1.1f%%')\n",
    "plt.title('성별에 따른 생존 비율')\n",
    "plt.show()"
   ]
  },
  {
   "cell_type": "code",
   "execution_count": 319,
   "metadata": {},
   "outputs": [
    {
     "name": "stdout",
     "output_type": "stream",
     "text": [
      "전체 사망자 비율 : 0.6161616161616161\n",
      "전체 사망자 중 여자 사망자  : 0.14754098360655737\n",
      "전체 사망자 중 남자 사망자  : 0.8524590163934426\n"
     ]
    },
    {
     "data": {
      "image/png": "[encoded data removed]",
      "text/plain": [
       "<Figure size 640x480 with 1 Axes>"
      ]
     },
     "metadata": {},
     "output_type": "display_data"
    }
   ],
   "source": [
    "#전체 사망지 비율\n",
    "print(f\"전체 사망자 비율 : {1 - df['Survived'].mean()}\")\n",
    "#\n",
    "\n",
    "female_dead = dead[dead['Sex'] == 'female']\n",
    "male_dead = dead[dead['Sex'] == 'male']\n",
    "\n",
    "female_dead_ratio = len(female_dead)/len(dead)\n",
    "male_dead_ratio = len(male_dead)/len(dead)\n",
    "\n",
    "print('전체 사망자 중 여자 사망자  :', len(female_dead)/len(dead))\n",
    "print('전체 사망자 중 남자 사망자  :', len(male_dead)/len(dead))\n",
    "#성별에 따른 사망 비율\n",
    "plt.pie([female_dead_ratio,male_dead_ratio], labels=['여자', '남자'], autopct='%1.1f%%')\n",
    "plt.title('성별에 따른 사망 비율')\n",
    "plt.show()\n"
   ]
  },
  {
   "cell_type": "code",
   "execution_count": 320,
   "metadata": {},
   "outputs": [
    {
     "name": "stdout",
     "output_type": "stream",
     "text": [
      "등급별 생존 확률 \n",
      "Pclass\n",
      "1    0.629630\n",
      "2    0.472826\n",
      "3    0.242363\n",
      "Name: Survived, dtype: float64\n"
     ]
    },
    {
     "data": {
      "image/png": "[encoded data removed]",
      "text/plain": [
       "<Figure size 640x480 with 1 Axes>"
      ]
     },
     "metadata": {},
     "output_type": "display_data"
    }
   ],
   "source": [
    "#좌석 등급별 생존자 비율\n",
    "#좌석 등급에 따라 생존자 비율이 달라지는지 확인 등급은 총 3가지가 있음\n",
    "\n",
    "print(f\"등급별 생존 확률 \\n{df.groupby('Pclass')['Survived'].mean()}\")\n",
    "#좌석 등급별 생존자 비율 시각화\n",
    "sns.barplot(data=df, x='Pclass', y='Survived')\n",
    "plt.show()\n",
    "#그래프로 알 수 있는 것은 1등급이 생존률이 높고 3등급이 낮다\n",
    "#3등급의 경우 생존률이 25%도 되지 않는다.\n",
    "#1등급의 경우 생존률이 63%에 달한다.\n",
    "#좌석 등급에 따라 생존률이 달라지는 것을 알 수 있다.\n",
    "\n",
    "\n"
   ]
  },
  {
   "cell_type": "code",
   "execution_count": 321,
   "metadata": {},
   "outputs": [
    {
     "name": "stdout",
     "output_type": "stream",
     "text": [
      "Pclass\n",
      "1    84.154687\n",
      "2    20.662183\n",
      "3    13.675550\n",
      "Name: Fare, dtype: float64\n"
     ]
    }
   ],
   "source": [
    "#등급별 티켓 가격 \n",
    "\n",
    "Fare_class = df.groupby('Pclass')['Fare'].mean()\n",
    "print(Fare_class)\n"
   ]
  },
  {
   "cell_type": "code",
   "execution_count": 322,
   "metadata": {},
   "outputs": [
    {
     "name": "stdout",
     "output_type": "stream",
     "text": [
      "Age_group\n",
      "10대       0.401961\n",
      "10대 미만    0.612903\n",
      "20대       0.350000\n",
      "30대       0.437126\n",
      "40대       0.382022\n",
      "50대       0.416667\n",
      "60대       0.315789\n",
      "70대 이상    0.288043\n",
      "Name: Survived, dtype: float64\n"
     ]
    },
    {
     "data": {
      "image/png": "[encoded data removed]",
      "text/plain": [
       "<Figure size 1000x600 with 1 Axes>"
      ]
     },
     "metadata": {},
     "output_type": "display_data"
    }
   ],
   "source": [
    "# 나이대를 구분하는 함수\n",
    "def age_group(age):\n",
    "    if age < 10:\n",
    "        return '10대 미만'\n",
    "    elif age < 20:\n",
    "        return '10대'\n",
    "    elif age < 30:\n",
    "        return '20대'\n",
    "    elif age < 40:\n",
    "        return '30대'\n",
    "    elif age < 50:\n",
    "        return '40대'\n",
    "    elif age < 60:\n",
    "        return '50대'\n",
    "    elif age < 70:\n",
    "        return '60대'\n",
    "    else:\n",
    "        return '70대 이상'\n",
    "\n",
    "# 승객 나이에 따라 그룹화\n",
    "df['Age_group'] = df['Age'].apply(age_group)\n",
    "\n",
    "# 나이대별 생존 확률 계산\n",
    "age_survival = df.groupby('Age_group')['Survived'].mean()\n",
    "print(age_survival)\n",
    "\n",
    "# 나이대별 생존 확률 시각화\n",
    "plt.figure(figsize=(10, 6))\n",
    "sns.barplot(x=age_survival.index, y=age_survival.values)\n",
    "plt.title('나이대별 생존 확률')\n",
    "plt.xlabel('나이대')\n",
    "plt.ylabel('생존 확률')\n",
    "plt.xticks(rotation=45)\n",
    "plt.show()\n",
    "\n",
    "# 이후 분석이나 모델링에서 Age_group을 제외하고 진행\n",
    "df = df.drop('Age_group', axis=1)"
   ]
  },
  {
   "cell_type": "code",
   "execution_count": 323,
   "metadata": {},
   "outputs": [
    {
     "name": "stderr",
     "output_type": "stream",
     "text": [
      "C:\\Users\\302\\AppData\\Local\\Temp\\ipykernel_14596\\2678877980.py:8: SettingWithCopyWarning: \n",
      "A value is trying to be set on a copy of a slice from a DataFrame.\n",
      "Try using .loc[row_indexer,col_indexer] = value instead\n",
      "\n",
      "See the caveats in the documentation: https://pandas.pydata.org/pandas-docs/stable/user_guide/indexing.html#returning-a-view-versus-a-copy\n",
      "  age_null_delete['Age_group'] = age_null_delete['Age'].apply(age_group)\n"
     ]
    },
    {
     "data": {
      "image/png": "[encoded data removed]",
      "text/plain": [
       "<Figure size 640x480 with 1 Axes>"
      ]
     },
     "metadata": {},
     "output_type": "display_data"
    }
   ],
   "source": [
    "#나이 데이터 결측치 처리\n",
    "\n",
    "age_null_delete = df.dropna(subset=['Age'])\n",
    "\n",
    "#승객 나이 통계 확인하기\n",
    "age_null_delete['Age'].describe()\n",
    "#승객 나이에 따라 분류하기\n",
    "age_null_delete['Age_group'] = age_null_delete['Age'].apply(age_group)\n",
    "#승객 나이에 따른 생존 확률\n",
    "age_null_delete.groupby('Age_group')['Survived'].mean()\n",
    "#승객 나이에 따른 생존 확률 시각화\n",
    "sns.barplot(x='Age_group', y='Survived', data=age_null_delete)\n",
    "plt.show()"
   ]
  },
  {
   "cell_type": "code",
   "execution_count": 324,
   "metadata": {},
   "outputs": [
    {
     "name": "stdout",
     "output_type": "stream",
     "text": [
      "     PassengerId  Survived  Pclass                                   Name  \\\n",
      "258          259         1       1                       Ward, Miss. Anna   \n",
      "737          738         1       1                 Lesurer, Mr. Gustave J   \n",
      "679          680         1       1     Cardeza, Mr. Thomas Drake Martinez   \n",
      "88            89         1       1             Fortune, Miss. Mabel Helen   \n",
      "27            28         0       1         Fortune, Mr. Charles Alexander   \n",
      "341          342         1       1         Fortune, Miss. Alice Elizabeth   \n",
      "438          439         0       1                      Fortune, Mr. Mark   \n",
      "311          312         1       1             Ryerson, Miss. Emily Borie   \n",
      "742          743         1       1  Ryerson, Miss. Susan Parker \"Suzette\"   \n",
      "118          119         0       1               Baxter, Mr. Quigg Edmond   \n",
      "\n",
      "        Sex   Age  SibSp  Parch    Ticket      Fare            Cabin Embarked  \\\n",
      "258  female  35.0      0      0  PC 17755  512.3292              NaN        C   \n",
      "737    male  35.0      0      0  PC 17755  512.3292             B101        C   \n",
      "679    male  36.0      0      1  PC 17755  512.3292      B51 B53 B55        C   \n",
      "88   female  23.0      3      2     19950  263.0000      C23 C25 C27        S   \n",
      "27     male  19.0      3      2     19950  263.0000      C23 C25 C27        S   \n",
      "341  female  24.0      3      2     19950  263.0000      C23 C25 C27        S   \n",
      "438    male  64.0      1      4     19950  263.0000      C23 C25 C27        S   \n",
      "311  female  18.0      2      2  PC 17608  262.3750  B57 B59 B63 B66        C   \n",
      "742  female  21.0      2      2  PC 17608  262.3750  B57 B59 B63 B66        C   \n",
      "118    male  24.0      0      1  PC 17558  247.5208          B58 B60        C   \n",
      "\n",
      "              FareBand  \n",
      "258  (39.688, 512.329]  \n",
      "737  (39.688, 512.329]  \n",
      "679  (39.688, 512.329]  \n",
      "88   (39.688, 512.329]  \n",
      "27   (39.688, 512.329]  \n",
      "341  (39.688, 512.329]  \n",
      "438  (39.688, 512.329]  \n",
      "311  (39.688, 512.329]  \n",
      "742  (39.688, 512.329]  \n",
      "118  (39.688, 512.329]  \n",
      "     PassengerId  Survived  Pclass                              Name   Sex  \\\n",
      "481          482         0       2  Frost, Mr. Anthony Wood \"Archie\"  male   \n",
      "302          303         0       3   Johnson, Mr. William Cahoone Jr  male   \n",
      "179          180         0       3               Leonard, Mr. Lionel  male   \n",
      "263          264         0       1             Harrison, Mr. William  male   \n",
      "815          816         0       1                  Fry, Mr. Richard  male   \n",
      "633          634         0       1     Parr, Mr. William Henry Marsh  male   \n",
      "413          414         0       2    Cunningham, Mr. Alfred Fleming  male   \n",
      "822          823         0       1   Reuchlin, Jonkheer. John George  male   \n",
      "732          733         0       2              Knight, Mr. Robert J  male   \n",
      "674          675         0       2        Watson, Mr. Ennis Hastings  male   \n",
      "\n",
      "      Age  SibSp  Parch  Ticket  Fare Cabin Embarked         FareBand  \n",
      "481   NaN      0      0  239854   0.0   NaN        S  (-0.001, 7.854]  \n",
      "302  19.0      0      0    LINE   0.0   NaN        S  (-0.001, 7.854]  \n",
      "179  36.0      0      0    LINE   0.0   NaN        S  (-0.001, 7.854]  \n",
      "263  40.0      0      0  112059   0.0   B94        S  (-0.001, 7.854]  \n",
      "815   NaN      0      0  112058   0.0  B102        S  (-0.001, 7.854]  \n",
      "633   NaN      0      0  112052   0.0   NaN        S  (-0.001, 7.854]  \n",
      "413   NaN      0      0  239853   0.0   NaN        S  (-0.001, 7.854]  \n",
      "822  38.0      0      0   19972   0.0   NaN        S  (-0.001, 7.854]  \n",
      "732   NaN      0      0  239855   0.0   NaN        S  (-0.001, 7.854]  \n",
      "674   NaN      0      0  239856   0.0   NaN        S  (-0.001, 7.854]  \n"
     ]
    },
    {
     "name": "stderr",
     "output_type": "stream",
     "text": [
      "C:\\Users\\302\\AppData\\Local\\Temp\\ipykernel_14596\\1390922172.py:8: FutureWarning: The default of observed=False is deprecated and will be changed to True in a future version of pandas. Pass observed=False to retain current behavior or observed=True to adopt the future default and silence this warning.\n",
      "  df[['FareBand', 'Survived']].groupby(['FareBand'], as_index=False).mean().sort_values(by='FareBand', ascending=True)\n"
     ]
    }
   ],
   "source": [
    "#운임비용에 따른 생존율\n",
    "#운임비용이 높으면 생존율이 높을지에 대해서 Fare를 기준으로 분석\n",
    "#\n",
    "\n",
    "df['Fare'].describe()\n",
    "#5\n",
    "df['FareBand'] = pd.qcut(df['Fare'], 5)\n",
    "df[['FareBand', 'Survived']].groupby(['FareBand'], as_index=False).mean().sort_values(by='FareBand', ascending=True)\n",
    "#200불 이상은 생존율이 높다.\n",
    "\n",
    "'''print(df['Fare'].min()) #요금에 이상치 있는지 확인 시 0원이 있음\n",
    "\n",
    "print(df['Fare'].max())'''\n",
    "\n",
    "df_sorted = df.sort_values(by='Fare', ascending=False)\n",
    "high_10 = df_sorted.head(10)\n",
    "low_10 = df_sorted.tail(10)\n",
    "\n",
    "print(high_10)\n",
    "print(low_10)\n",
    "\n"
   ]
  },
  {
   "cell_type": "code",
   "execution_count": 325,
   "metadata": {},
   "outputs": [
    {
     "name": "stdout",
     "output_type": "stream",
     "text": [
      "탑승 항구 별 생존 확률 \n",
      "Embarked\n",
      "C    0.553571\n",
      "Q    0.389610\n",
      "S    0.336957\n",
      "Name: Survived, dtype: float64\n"
     ]
    },
    {
     "data": {
      "image/png": "[encoded data removed]",
      "text/plain": [
       "<Figure size 640x480 with 1 Axes>"
      ]
     },
     "metadata": {},
     "output_type": "display_data"
    },
    {
     "name": "stdout",
     "output_type": "stream",
     "text": [
      "항구 별 가격 평균\n",
      "Embarked\n",
      "C    59.954144\n",
      "Q    13.276030\n",
      "S    27.079812\n",
      "Name: Fare, dtype: float64\n",
      "항구 별 티켓 등급\n",
      "Embarked\n",
      "C    1.886905\n",
      "Q    2.909091\n",
      "S    2.350932\n",
      "Name: Pclass, dtype: float64\n"
     ]
    }
   ],
   "source": [
    "#탑승 항구에 따라 생존률이 달라지는지 확인\n",
    "\n",
    "\n",
    "print(f\"탑승 항구 별 생존 확률 \\n{df.groupby('Embarked')['Survived'].mean()}\")\n",
    "#좌석 등급별 생존자 비율 시각화\n",
    "sns.barplot(data=df, x='Embarked', y='Survived')\n",
    "plt.title('탑승 항구 별 생존 확률')\n",
    "plt.xlabel('항구')\n",
    "plt.ylabel('생존확률')\n",
    "plt.show()\n",
    "\n",
    "print(f\"항구 별 가격 평균\\n{df.groupby('Embarked')['Fare'].mean()}\" )\n",
    "print(f\"항구 별 티켓 등급\\n{df.groupby('Embarked')['Pclass'].mean()}\")"
   ]
  },
  {
   "cell_type": "code",
   "execution_count": 326,
   "metadata": {},
   "outputs": [
    {
     "name": "stdout",
     "output_type": "stream",
     "text": [
      "Survived\n",
      "0    374\n",
      "1    163\n",
      "Name: count, dtype: int64\n",
      "Survived\n",
      "0    151\n",
      "1    132\n",
      "Name: count, dtype: int64\n"
     ]
    }
   ],
   "source": [
    "# Sibsp 과 Parch 0인 경우 혼자 탑승\n",
    "# 1이상인 경우 동승자 있음\n",
    "\n",
    "alone = df[df['SibSp'] == 0]\n",
    "alone = alone[alone['Parch'] == 0]\n",
    "print(alone['Survived'].value_counts())\n",
    "\n",
    "\n",
    "#동승자가 있는 경우 생존률이 더 높은지 확인\n",
    "#동승자가 있는 사람\n",
    "Sibsp_Parch = df[df['SibSp'] > 0]\n",
    "Sibsp_parch = Sibsp_Parch[Sibsp_Parch['Parch'] > 0]\n",
    "print(Sibsp_Parch['Survived'].value_counts())\n",
    "\n",
    "#동승자가 있는 경우 생존률이 더 높음"
   ]
  },
  {
   "cell_type": "code",
   "execution_count": 327,
   "metadata": {},
   "outputs": [
    {
     "name": "stdout",
     "output_type": "stream",
     "text": [
      "RandomForest 정확도 : 0.7932960893854749\n",
      "혼동 행렬 : [[89 16]\n",
      " [21 53]]\n"
     ]
    }
   ],
   "source": [
    "#모델 학습 시키기\n",
    "from sklearn.model_selection import train_test_split\n",
    "from sklearn.ensemble import RandomForestClassifier\n",
    "from sklearn.metrics import accuracy_score\n",
    "from sklearn.metrics import confusion_matrix\n",
    "from sklearn.linear_model import LogisticRegression\n",
    "from sklearn.svm import SVC\n",
    "import seaborn as sns\n",
    "df['Sex'] = df['Sex'].map({'male': 0, 'female': 1})\n",
    "X = df[['Pclass', 'Age', 'Sex', 'Fare']]\n",
    "y = df['Survived']\n",
    "\n",
    "\n",
    "X_train, X_test, y_train, y_test = train_test_split(X, y, test_size=0.2, random_state=42)\n",
    "\n",
    "model = RandomForestClassifier(n_estimators=100, random_state=42)\n",
    "model.fit(X_train, y_train)\n",
    "\n",
    "y_pred = model.predict(X_test)\n",
    "print('RandomForest 정확도 :', accuracy_score(y_test, y_pred))\n",
    "print('혼동 행렬 :', confusion_matrix(y_test, y_pred))\n"
   ]
  },
  {
   "cell_type": "code",
   "execution_count": 328,
   "metadata": {},
   "outputs": [
    {
     "name": "stdout",
     "output_type": "stream",
     "text": [
      "LogisticRegression Accuracy: 0.776536312849162\n"
     ]
    }
   ],
   "source": [
    "X = np.nan_to_num(X)\n",
    "X_train, X_test, y_train, y_test = train_test_split(X, y, test_size=0.2, random_state=42)\n",
    "\n",
    "model = LogisticRegression()\n",
    "model.fit(X_train, y_train)\n",
    "\n",
    "y_pred = model.predict(X_test)\n",
    "print(\"LogisticRegression Accuracy:\", accuracy_score(y_test, y_pred))\n",
    "\n"
   ]
  },
  {
   "cell_type": "code",
   "execution_count": 329,
   "metadata": {},
   "outputs": [
    {
     "name": "stdout",
     "output_type": "stream",
     "text": [
      "SVC Accuracy: 0.6536312849162011\n"
     ]
    }
   ],
   "source": [
    "model = SVC()\n",
    "model.fit(X_train, y_train)\n",
    "\n",
    "y_pred = model.predict(X_test)\n",
    "print(\"SVC Accuracy:\", accuracy_score(y_test, y_pred))"
   ]
  },
  {
   "cell_type": "code",
   "execution_count": 330,
   "metadata": {},
   "outputs": [
    {
     "name": "stdout",
     "output_type": "stream",
     "text": [
      "XGBoost Accuracy: 0.8044692737430168\n",
      "혼동 행렬 : [[93 12]\n",
      " [23 51]]\n"
     ]
    }
   ],
   "source": [
    "xgb_model = xgb.XGBClassifier(n_estimators=100, max_depth=3, learning_rate=0.1, random_state=42)\n",
    "xgb_model.fit(X_train, y_train)\n",
    "\n",
    "y_pred = xgb_model.predict(X_test)\n",
    "print(\"XGBoost Accuracy:\", accuracy_score(y_test, y_pred))\n",
    "print('혼동 행렬 :', confusion_matrix(y_test, y_pred))"
   ]
  },
  {
   "cell_type": "code",
   "execution_count": 331,
   "metadata": {},
   "outputs": [
    {
     "name": "stdout",
     "output_type": "stream",
     "text": [
      "Fitting 3 folds for each of 108 candidates, totalling 324 fits\n",
      "최적의 파라미터: {'colsample_bytree': 1.0, 'learning_rate': 0.1, 'max_depth': 5, 'n_estimators': 100, 'subsample': 0.8}\n",
      "최고의 정확도: 0.8258518597312343\n",
      "최적의 XGBoost 정확도: 0.8324022346368715\n",
      "혼동 행렬 : [[93 12]\n",
      " [18 56]]\n"
     ]
    }
   ],
   "source": [
    "from sklearn.model_selection import GridSearchCV\n",
    "\n",
    "# 하이퍼파라미터 그리드 설정\n",
    "param_grid = {\n",
    "    'n_estimators': [50, 100, 200],\n",
    "    'max_depth': [3, 4, 5],\n",
    "    'learning_rate': [0.01, 0.1, 0.2],\n",
    "    'subsample': [0.8, 1.0],\n",
    "    'colsample_bytree': [0.8, 1.0]\n",
    "}\n",
    "\n",
    "# XGBoost 모델 생성\n",
    "xgb_model = xgb.XGBClassifier(random_state=42)\n",
    "\n",
    "# GridSearchCV 설정\n",
    "grid_search = GridSearchCV(estimator=xgb_model, param_grid=param_grid, cv=3, scoring='accuracy', n_jobs=-1, verbose=2)\n",
    "\n",
    "# 모델 학습\n",
    "grid_search.fit(X_train, y_train)\n",
    "\n",
    "# 최적의 파라미터 출력\n",
    "print(\"최적의 파라미터:\", grid_search.best_params_)\n",
    "print(\"최고의 정확도:\", grid_search.best_score_)\n",
    "\n",
    "# 최적의 파라미터로 예측\n",
    "best_model = grid_search.best_estimator_\n",
    "y_pred = best_model.predict(X_test)\n",
    "print(\"최적의 XGBoost 정확도:\", accuracy_score(y_test, y_pred))\n",
    "print('혼동 행렬 :', confusion_matrix(y_test, y_pred))"
   ]
  },
  {
   "cell_type": "code",
   "execution_count": 332,
   "metadata": {},
   "outputs": [
    {
     "name": "stdout",
     "output_type": "stream",
     "text": [
      "DecisionTree Accuracy: 0.776536312849162\n",
      "혼동 행렬 : [[89 16]\n",
      " [24 50]]\n"
     ]
    }
   ],
   "source": [
    "#결정 트리 모델 \n",
    "model = DecisionTreeClassifier(random_state=42)\n",
    "model.fit(X_train, y_train)\n",
    "\n",
    "y_pred = model.predict(X_test)\n",
    "print(\"DecisionTree Accuracy:\", accuracy_score(y_test, y_pred))\n",
    "print('혼동 행렬 :', confusion_matrix(y_test, y_pred))\n",
    "\n"
   ]
  },
  {
   "cell_type": "code",
   "execution_count": 333,
   "metadata": {},
   "outputs": [
    {
     "name": "stdout",
     "output_type": "stream",
     "text": [
      "요금 0이하의 데이터 개수 : 15\n"
     ]
    }
   ],
   "source": [
    "#데이터 전처리\n",
    "fare_zero_less = df[df['Fare'] < 1]\n",
    "print(f'요금 0이하의 데이터 개수 : {len(fare_zero_less)}')\n",
    "\n",
    "# 요금 0 이하의 데이터 삭제\n",
    "df = df[df['Fare'] > 0]"
   ]
  },
  {
   "cell_type": "code",
   "execution_count": 334,
   "metadata": {},
   "outputs": [
    {
     "name": "stdout",
     "output_type": "stream",
     "text": [
      "성별을 나타내는 문자가 없는 데이터 개수: 26\n",
      "                                                  Name     Title\n",
      "30                            Uruchurtu, Don. Manuel E       Don\n",
      "149                  Byles, Rev. Thomas Roussel Davids       Rev\n",
      "150                         Bateman, Rev. Robert James       Rev\n",
      "245                        Minahan, Dr. William Edward        Dr\n",
      "249                      Carter, Rev. Ernest Courtenay       Rev\n",
      "317                               Moraweck, Dr. Ernest        Dr\n",
      "369                      Aubart, Mme. Leontine Pauline       Mme\n",
      "398                                   Pain, Dr. Alfred        Dr\n",
      "443                          Reynaldo, Ms. Encarnacion        Ms\n",
      "449                     Peuchen, Major. Arthur Godfrey     Major\n",
      "536                  Butt, Major. Archibald Willingham     Major\n",
      "556  Duff Gordon, Lady. (Lucille Christiana Sutherl...      Lady\n",
      "599       Duff Gordon, Sir. Cosmo Edmund (\"Mr Morgan\")       Sir\n",
      "626                     Kirkland, Rev. Charles Leonard       Rev\n",
      "632                          Stahelin-Maeglin, Dr. Max        Dr\n",
      "641                               Sagesser, Mlle. Emma      Mlle\n",
      "647                Simonius-Blumer, Col. Oberst Alfons       Col\n",
      "660                      Frauenthal, Dr. Henry William        Dr\n",
      "694                                    Weir, Col. John       Col\n",
      "710   Mayne, Mlle. Berthe Antonine (\"Mrs de Villiers\")      Mlle\n",
      "745                       Crosby, Capt. Edward Gifford      Capt\n",
      "759  Rothes, the Countess. of (Lucy Noel Martha Dye...  Countess\n",
      "766                          Brewe, Dr. Arthur Jackson        Dr\n",
      "796                        Leader, Dr. Alice (Farnham)        Dr\n",
      "848                                  Harper, Rev. John       Rev\n",
      "886                              Montvila, Rev. Juozas       Rev\n",
      "   PassengerId  Survived  Pclass  \\\n",
      "0            1         0       3   \n",
      "1            2         1       1   \n",
      "2            3         1       3   \n",
      "3            4         1       1   \n",
      "4            5         0       3   \n",
      "\n",
      "                                                Name  Sex   Age  SibSp  Parch  \\\n",
      "0                            Braund, Mr. Owen Harris    0  22.0      1      0   \n",
      "1  Cumings, Mrs. John Bradley (Florence Briggs Th...    1  38.0      1      0   \n",
      "2                             Heikkinen, Miss. Laina    1  26.0      0      0   \n",
      "3       Futrelle, Mrs. Jacques Heath (Lily May Peel)    1  35.0      1      0   \n",
      "4                           Allen, Mr. William Henry    0  35.0      0      0   \n",
      "\n",
      "             Ticket     Fare Cabin Embarked           FareBand Title  \n",
      "0         A/5 21171   7.2500   NaN        S    (-0.001, 7.854]    Mr  \n",
      "1          PC 17599  71.2833   C85        C  (39.688, 512.329]   Mrs  \n",
      "2  STON/O2. 3101282   7.9250   NaN        S      (7.854, 10.5]  Miss  \n",
      "3            113803  53.1000  C123        S  (39.688, 512.329]   Mrs  \n",
      "4            373450   8.0500   NaN        S      (7.854, 10.5]    Mr  \n"
     ]
    },
    {
     "name": "stderr",
     "output_type": "stream",
     "text": [
      "<>:3: SyntaxWarning: invalid escape sequence '\\.'\n",
      "<>:3: SyntaxWarning: invalid escape sequence '\\.'\n",
      "C:\\Users\\302\\AppData\\Local\\Temp\\ipykernel_14596\\1705049127.py:3: SyntaxWarning: invalid escape sequence '\\.'\n",
      "  df['Title'] = df['Name'].str.extract('([A-Za-z]+)\\.', expand=False)\n"
     ]
    }
   ],
   "source": [
    "# 이름에 성별 잘못 입력된 데이터 확인\n",
    "# 이름에 Mr, Mrs, Miss, Master가 없는 데이터 확인\n",
    "df['Title'] = df['Name'].str.extract('([A-Za-z]+)\\.', expand=False)\n",
    "\n",
    "# Title이 Mr, Mrs, Miss, Master에 포함되지 않은 데이터 필터링\n",
    "invalid_titles = df[~df['Title'].isin(['Mr', 'Mrs', 'Miss', 'Master'])]\n",
    "\n",
    "# 결과 출력\n",
    "print(f\"성별을 나타내는 문자가 없는 데이터 개수: {len(invalid_titles)}\")\n",
    "print(invalid_titles[['Name', 'Title']])\n",
    "\n",
    "\n",
    "print(df.head())\n",
    "\n",
    "\n"
   ]
  },
  {
   "cell_type": "code",
   "execution_count": 335,
   "metadata": {},
   "outputs": [
    {
     "name": "stdout",
     "output_type": "stream",
     "text": [
      "동승자가 없는 경우 생존율: 0.3103448275862069\n",
      "동승자가 있는 경우 생존률: 0.5056497175141242\n"
     ]
    },
    {
     "data": {
      "image/png": "[encoded data removed]",
      "text/plain": [
       "<Figure size 640x480 with 1 Axes>"
      ]
     },
     "metadata": {},
     "output_type": "display_data"
    }
   ],
   "source": [
    "# 동승자 유무에 따른 생존률 확인\n",
    "# 동승자가 없는 경우\n",
    "alone = df[(df['SibSp'] == 0) & (df['Parch'] == 0)]\n",
    "print(f'동승자가 없는 경우 생존율: {alone[\"Survived\"].mean()}')\n",
    "\n",
    "# 동승자가 있는 경우\n",
    "not_alone = df[(df['SibSp'] > 0) | (df['Parch'] > 0)]\n",
    "print(f'동승자가 있는 경우 생존률: {not_alone[\"Survived\"].mean()}')\n",
    "\n",
    "#df 에 Alone 컬럼 추가\n",
    "df['Alone'] = 0\n",
    "df.loc[(df['SibSp'] == 0) & (df['Parch'] == 0), 'Alone'] = 1\n",
    "\n",
    "\n",
    "# 그래프로 확인\n",
    "sns.barplot(data=df, x='Alone', y='Survived')\n",
    "plt.title('동승자 유무에 따른 생존률')\n",
    "plt.show()"
   ]
  },
  {
   "cell_type": "code",
   "execution_count": 336,
   "metadata": {},
   "outputs": [],
   "source": [
    "# 필요없어 보이는 열 삭제\n",
    "df = df.drop(['PassengerId', 'Name', 'Ticket', 'Cabin', 'Title','FareBand','Embarked','SibSp','Parch'], axis=1)\n"
   ]
  },
  {
   "cell_type": "code",
   "execution_count": 337,
   "metadata": {},
   "outputs": [
    {
     "name": "stdout",
     "output_type": "stream",
     "text": [
      "   Survived  Pclass  Sex   Age  Fare  Alone\n",
      "0         0       3    0  22.0  7.25      0\n",
      "29.645219236209332\n"
     ]
    }
   ],
   "source": [
    "#삭제 후 데이터 확인\n",
    "print(df.head(1))\n",
    "\n",
    "#Age 평균 \n",
    "age_mean = df['Age'].mean()\n",
    "print(age_mean)"
   ]
  },
  {
   "cell_type": "code",
   "execution_count": 338,
   "metadata": {},
   "outputs": [
    {
     "name": "stdout",
     "output_type": "stream",
     "text": [
      "RandomForest 정확도 : 0.8181818181818182\n",
      "LogisticRegression Accuracy: 0.7954545454545454\n",
      "XGBoost Accuracy: 0.8333333333333334\n",
      "DecisionTree Accuracy: 0.7727272727272727\n"
     ]
    }
   ],
   "source": [
    "# 나이 결측치를 삭제한 데이터 모델링 후 확인\n",
    "# 모델링 학습시키기\n",
    "X = df.drop('Survived', axis=1)\n",
    "X = np.nan_to_num(X)\n",
    "y = df['Survived']\n",
    "\n",
    "X_train, X_test, y_train, y_test = train_test_split(X, y, test_size=0.15, random_state=42)\n",
    "#랜던 포레스트 모델 사용\n",
    "model = RandomForestClassifier(n_estimators=100, random_state=42)\n",
    "model.fit(X_train, y_train)\n",
    "\n",
    "y_pred = model.predict(X_test)\n",
    "print('RandomForest 정확도 :', accuracy_score(y_test, y_pred))\n",
    "\n",
    "# 로지스틱 회귀 모델 사용\n",
    "model = LogisticRegression(n_jobs=-1, random_state=42)\n",
    "model.fit(X_train, y_train)\n",
    "\n",
    "y_pred = model.predict(X_test)\n",
    "print(\"LogisticRegression Accuracy:\", accuracy_score(y_test, y_pred))\n",
    "\n",
    "# XGBoost 모델 사용\n",
    "model = xgb.XGBClassifier(n_estimators=100, max_depth=3, learning_rate=0.1, random_state=42)\n",
    "model.fit(X_train, y_train)\n",
    "\n",
    "y_pred = model.predict(X_test)\n",
    "print(\"XGBoost Accuracy:\", accuracy_score(y_test, y_pred))\n",
    "\n",
    "#결정 트리 모델\n",
    "model = DecisionTreeClassifier(random_state=42)\n",
    "model.fit(X_train, y_train)\n",
    "\n",
    "y_pred = model.predict(X_test)\n",
    "print(\"DecisionTree Accuracy:\", accuracy_score(y_test, y_pred))\n",
    "\n"
   ]
  },
  {
   "cell_type": "code",
   "execution_count": 339,
   "metadata": {},
   "outputs": [
    {
     "name": "stdout",
     "output_type": "stream",
     "text": [
      "   PassengerId  Pclass              Name   Sex   Age  SibSp  Parch  Ticket  \\\n",
      "0          892       3  Kelly, Mr. James  male  34.5      0      0  330911   \n",
      "\n",
      "     Fare Cabin Embarked  \n",
      "0  7.8292   NaN        Q  \n",
      "   PassengerId  Pclass   Sex   Age    Fare\n",
      "0          892       3  male  34.5  7.8292\n",
      "PassengerId     0\n",
      "Pclass          0\n",
      "Sex             0\n",
      "Age            86\n",
      "Fare            1\n",
      "dtype: int64\n",
      "   PassengerId  Survived\n",
      "0          892         0\n",
      "1          893         0\n",
      "2          894         0\n",
      "3          895         0\n",
      "4          896         0\n",
      "예측 결과가 'submission.csv' 파일로 저장되었습니다.\n"
     ]
    }
   ],
   "source": [
    "test_df = pd.read_csv('test.csv')\n",
    "print(test_df.head(1))\n",
    "\n",
    "#필요 없는 열 삭제\n",
    "test_df = test_df.drop(['Name', 'Ticket', 'Cabin', 'Embarked','SibSp','Parch'], axis=1)\n",
    "print(test_df.head(1))\n",
    "\n",
    "#결측치 확인\n",
    "print(test_df.isnull().sum())\n",
    "\n",
    "#결측치 처리 평균값으로\n",
    "test_df['Age'] = test_df['Age'].fillna(age_mean)\n",
    "test_df['Fare'] = test_df['Fare'].fillna(test_df['Fare'].mean())\n",
    "# 문자열 데이터를 숫자형으로 변환 (예: 'Sex' 열)\n",
    "test_df['Sex'] = test_df['Sex'].map({'male': 0, 'female': 1})\n",
    "\n",
    "\n",
    "#모델링하여 생존률 예측하기\n",
    "model = xgb.XGBClassifier(n_estimators=100, random_state=42)\n",
    "model.fit(X_train, y_train)  # X_train, y_train은 학습 데이터\n",
    "\n",
    "y_pred = model.predict(test_df)\n",
    "\n",
    "# 예측 결과를 테스트 데이터에 추가\n",
    "test_df['Survived'] = y_pred\n",
    "\n",
    "# 결과 확인\n",
    "print(test_df[['PassengerId', 'Survived']].head())\n",
    "\n",
    "# 결과를 CSV 파일로 저장\n",
    "test_df[['PassengerId', 'Survived']].to_csv('submission.csv', index=False)\n",
    "print(\"예측 결과가 'submission.csv' 파일로 저장되었습니다.\")\n",
    "\n"
   ]
  }
 ],
 "metadata": {
  "kernelspec": {
   "display_name": "base",
   "language": "python",
   "name": "python3"
  },
  "language_info": {
   "codemirror_mode": {
    "name": "ipython",
    "version": 3
   },
   "file_extension": ".py",
   "mimetype": "text/x-python",
   "name": "python",
   "nbconvert_exporter": "python",
   "pygments_lexer": "ipython3",
   "version": "3.12.7"
  }
 },
 "nbformat": 4,
 "nbformat_minor": 2
}
