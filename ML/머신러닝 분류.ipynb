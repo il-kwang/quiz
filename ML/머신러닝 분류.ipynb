{
 "cells": [
  {
   "cell_type": "markdown",
   "metadata": {},
   "source": [
    "/*************  ✨ Codeium Command 🌟  *************/\n",
    "***머신러닝***\n",
    "- 분류(Classification) : 참/거짓\n",
    "/******  093e38b5-5977-4c7c-93a0-83c4c04fac05  *******/\n",
    "**회귀 출력값\n",
    "머신러닝은 자기가 예측한 값 - 기상 정보에 따른 항공 지연 여부 예측하기 - 분류 알고리즘을 사용한다 (지연이다/아니다)\n",
    "회귀 알고리즘은 분류 문제에 그대로 사용X\n",
    "로지스트 회귀 - 값으로 받아 들이는 데이터 일때 참/불을 나타 낼 때 시그모이드 함수 사용**\n",
    "st"
   ]
  }
 ],
 "metadata": {
  "language_info": {
   "name": "python"
  }
 },
 "nbformat": 4,
 "nbformat_minor": 2
}
