{
 "cells": [
  {
   "cell_type": "markdown",
   "metadata": {},
   "source": [
    "Dataset Info.\n",
    "train.csv [파일]\n",
    "ID : 샘플별 고유 ID\n",
    "label : 아이콘의 종류(airplane, apple, ball, bird, building, cat, emotion_face, police_car, rabbit, truck)\n",
    "0 ~ 1023 : 각 이미지의 픽셀 값(Grayscale, 32×32 해상도)을 1D 배열로 펼쳐 저장한 형태\n",
    "\n",
    "\n",
    "test.csv [파일]\n",
    "ID : 샘플별 고유 ID\n",
    "0 ~ 1023 : 각 이미지의 픽셀 값(Grayscale, 32×32 해상도)을 1D 배열로 펼쳐 저장한 형태\n",
    "\n",
    "\n",
    "sample_submission.csv [파일] - 제출 양식\n",
    "ID : 샘플별 고유 ID\n",
    "label : 예측한 아이콘 종류\n"
   ]
  },
  {
   "cell_type": "code",
   "execution_count": null,
   "metadata": {},
   "outputs": [],
   "source": [
    "#필요한 라이브러리 호출\n",
    "import pandas as pd\n",
    "import matplotlib.pyplot as plt\n",
    "from sklearn.preprocessing import StandardScaler\n",
    "from sklearn.model_selection import train_test_split"
   ]
  },
  {
   "cell_type": "code",
   "execution_count": 34,
   "metadata": {},
   "outputs": [],
   "source": [
    "#test.csv 파일을 불러온다.\n",
    "test_path = './open/test.csv'\n",
    "test_data = pd.read_csv(test_path)\n",
    "train_path = './open/train.csv'\n",
    "train_data = pd.read_csv(train_path)\n"
   ]
  },
  {
   "cell_type": "code",
   "execution_count": 35,
   "metadata": {},
   "outputs": [
    {
     "name": "stdout",
     "output_type": "stream",
     "text": [
      "         0      1      2      3      4      5      6      7      8      9  \\\n",
      "min    0.0    0.0    0.0    1.0    1.0    1.0    1.0    0.0    0.0    0.0   \n",
      "max  255.0  255.0  255.0  254.0  255.0  255.0  255.0  255.0  255.0  253.0   \n",
      "\n",
      "     ...   1014   1015   1016   1017   1018   1019   1020   1021   1022   1023  \n",
      "min  ...    1.0    0.0    0.0    1.0    0.0    0.0    2.0    1.0    0.0    3.0  \n",
      "max  ...  254.0  255.0  255.0  255.0  255.0  255.0  255.0  255.0  255.0  255.0  \n",
      "\n",
      "[2 rows x 1024 columns]\n"
     ]
    }
   ],
   "source": [
    "# test.csv 파일 최소값 최대값 확인\n",
    "print(pd.DataFrame(test_data.describe().loc[['min','max']]))\n",
    "# 최대값 확인 시 0~255 사이의 값이므로 이미지 데이터로 추정할 수 있다.\n",
    "\n"
   ]
  },
  {
   "cell_type": "code",
   "execution_count": 37,
   "metadata": {},
   "outputs": [
    {
     "name": "stdout",
     "output_type": "stream",
     "text": [
      "          ID     label    0    1    2    3    4    5    6    7  ...  1014  \\\n",
      "0  TRAIN_000  building  251  196   51   63   68   78  189   34  ...    85   \n",
      "1  TRAIN_001  building  247  184  203  237  255  255  193  255  ...   242   \n",
      "2  TRAIN_002  building  217  223  232  231  239  212  109  115  ...    96   \n",
      "3  TRAIN_003       cat  133  149  153  138   68  157  159  166  ...   245   \n",
      "4  TRAIN_004  building  240  213  187  159  112  134  239  233  ...   148   \n",
      "\n",
      "   1015  1016  1017  1018  1019  1020  1021  1022  1023  \n",
      "0   195    63    30    73    65    63   201   251   248  \n",
      "1   239   241   242   242   241   241   241   240   238  \n",
      "2    90   103   166   191   163   190   190   206   231  \n",
      "3   241   247   255   250   190   186   244   254   201  \n",
      "4    59   163   133    92   196   221   194   182   251  \n",
      "\n",
      "[5 rows x 1026 columns]\n"
     ]
    }
   ],
   "source": [
    "#train.csv 파일의 상위 5개 데이터 확인\n",
    "print(train_data.head())\n"
   ]
  },
  {
   "cell_type": "code",
   "execution_count": 38,
   "metadata": {},
   "outputs": [
    {
     "name": "stdout",
     "output_type": "stream",
     "text": [
      "<class 'pandas.core.frame.DataFrame'>\n",
      "RangeIndex: 769 entries, 0 to 768\n",
      "Columns: 1026 entries, ID to 1023\n",
      "dtypes: int64(1024), object(2)\n",
      "memory usage: 6.0+ MB\n",
      "None\n"
     ]
    }
   ],
   "source": [
    "print(train_data.info())"
   ]
  },
  {
   "cell_type": "code",
   "execution_count": 39,
   "metadata": {},
   "outputs": [
    {
     "name": "stdout",
     "output_type": "stream",
     "text": [
      "                0           1           2           3           4           5  \\\n",
      "count  769.000000  769.000000  769.000000  769.000000  769.000000  769.000000   \n",
      "mean   204.763329  200.617685  198.704811  197.136541  194.245774  193.608583   \n",
      "std     57.652616   60.229288   62.543943   62.669402   64.572579   63.898491   \n",
      "min      2.000000    0.000000    0.000000    0.000000    0.000000    0.000000   \n",
      "25%    193.000000  178.000000  175.000000  168.000000  165.000000  164.000000   \n",
      "50%    228.000000  228.000000  228.000000  227.000000  223.000000  221.000000   \n",
      "75%    245.000000  245.000000  245.000000  243.000000  242.000000  242.000000   \n",
      "max    255.000000  255.000000  255.000000  255.000000  255.000000  255.000000   \n",
      "\n",
      "                6           7           8           9  ...        1014  \\\n",
      "count  769.000000  769.000000  769.000000  769.000000  ...  769.000000   \n",
      "mean   188.739922  185.530559  184.161248  182.566970  ...  156.827048   \n",
      "std     66.509515   70.378344   70.131703   71.222005  ...   79.472545   \n",
      "min      1.000000    0.000000    0.000000    0.000000  ...    0.000000   \n",
      "25%    152.000000  145.000000  142.000000  136.000000  ...   86.000000   \n",
      "50%    217.000000  215.000000  212.000000  210.000000  ...  176.000000   \n",
      "75%    241.000000  241.000000  240.000000  240.000000  ...  231.000000   \n",
      "max    255.000000  255.000000  255.000000  255.000000  ...  255.000000   \n",
      "\n",
      "             1015        1016        1017        1018        1019        1020  \\\n",
      "count  769.000000  769.000000  769.000000  769.000000  769.000000  769.000000   \n",
      "mean   162.375813  165.193758  166.347204  167.945384  172.371912  180.118336   \n",
      "std     77.702930   76.422126   76.554058   76.944072   75.648753   71.514005   \n",
      "min      0.000000    0.000000    0.000000    0.000000    0.000000    0.000000   \n",
      "25%    101.000000  104.000000  101.000000  106.000000  112.000000  130.000000   \n",
      "50%    182.000000  186.000000  189.000000  194.000000  196.000000  203.000000   \n",
      "75%    237.000000  237.000000  237.000000  238.000000  238.000000  240.000000   \n",
      "max    255.000000  255.000000  255.000000  255.000000  255.000000  255.000000   \n",
      "\n",
      "             1021        1022        1023  \n",
      "count  769.000000  769.000000  769.000000  \n",
      "mean   188.215865  192.644993  192.314694  \n",
      "std     69.306537   67.327055   65.509460  \n",
      "min      0.000000    0.000000    2.000000  \n",
      "25%    146.000000  158.000000  157.000000  \n",
      "50%    219.000000  222.000000  220.000000  \n",
      "75%    242.000000  243.000000  243.000000  \n",
      "max    255.000000  255.000000  255.000000  \n",
      "\n",
      "[8 rows x 1024 columns]\n",
      "ID       0\n",
      "label    0\n",
      "0        0\n",
      "1        0\n",
      "2        0\n",
      "        ..\n",
      "1019     0\n",
      "1020     0\n",
      "1021     0\n",
      "1022     0\n",
      "1023     0\n",
      "Length: 1026, dtype: int64\n"
     ]
    }
   ],
   "source": [
    "print(train_data.describe())\n",
    "\n",
    "#결측값 확인\n",
    "print(train_data.isnull().sum())\n"
   ]
  },
  {
   "cell_type": "code",
   "execution_count": 43,
   "metadata": {},
   "outputs": [
    {
     "name": "stdout",
     "output_type": "stream",
     "text": [
      "          ID     label    0    1    2    3    4    5    6    7  ...  1014  \\\n",
      "0  TRAIN_000  building  251  196   51   63   68   78  189   34  ...    85   \n",
      "1  TRAIN_001  building  247  184  203  237  255  255  193  255  ...   242   \n",
      "2  TRAIN_002  building  217  223  232  231  239  212  109  115  ...    96   \n",
      "3  TRAIN_003       cat  133  149  153  138   68  157  159  166  ...   245   \n",
      "4  TRAIN_004  building  240  213  187  159  112  134  239  233  ...   148   \n",
      "\n",
      "   1015  1016  1017  1018  1019  1020  1021  1022  1023  \n",
      "0   195    63    30    73    65    63   201   251   248  \n",
      "1   239   241   242   242   241   241   241   240   238  \n",
      "2    90   103   166   191   163   190   190   206   231  \n",
      "3   241   247   255   250   190   186   244   254   201  \n",
      "4    59   163   133    92   196   221   194   182   251  \n",
      "\n",
      "[5 rows x 1026 columns]\n",
      "-----------------------------\n",
      "     0    1    2    3    4    5    6    7    8    9  ...  1014  1015  1016  \\\n",
      "0  251  196   51   63   68   78  189   34   62   61  ...    85   195    63   \n",
      "1  247  184  203  237  255  255  193  255  255  255  ...   242   239   241   \n",
      "2  217  223  232  231  239  212  109  115  155  164  ...    96    90   103   \n",
      "3  133  149  153  138   68  157  159  166  170  167  ...   245   241   247   \n",
      "4  240  213  187  159  112  134  239  233  232  235  ...   148    59   163   \n",
      "\n",
      "   1017  1018  1019  1020  1021  1022  1023  \n",
      "0    30    73    65    63   201   251   248  \n",
      "1   242   242   241   241   241   240   238  \n",
      "2   166   191   163   190   190   206   231  \n",
      "3   255   250   190   186   244   254   201  \n",
      "4   133    92   196   221   194   182   251  \n",
      "\n",
      "[5 rows x 1024 columns]\n"
     ]
    },
    {
     "data": {
      "text/plain": [
       "<matplotlib.image.AxesImage at 0x25e4b741ca0>"
      ]
     },
     "execution_count": 43,
     "metadata": {},
     "output_type": "execute_result"
    },
    {
     "data": {
      "image/png": "[encoded data removed]",
      "text/plain": [
       "<Figure size 640x480 with 1 Axes>"
      ]
     },
     "metadata": {},
     "output_type": "display_data"
    }
   ],
   "source": [
    "#test.csv 의 데이터를 활용하여 이미지 생성 하기 전에 데이터의 형태를 확인한다.\n",
    "#1차원 데이터를 2차원 데이터로 변환하여 이미지를 생성한다.\n",
    "#train_data의 상위 5개 데이터 확인\n",
    "print(train_data.head())\n",
    "print('-----------------------------')\n",
    "\n",
    "#ID와 label을 제외한 데이터를 추출한다.\n",
    "#2차원 데이터로 변환 (첫번째 두번째 열 제외)\n",
    "train_data_img = train_data.iloc[:,2:]\n",
    "print(train_data_img.head())\n",
    "\n",
    "#첫번째 데이터를 2차원 이미지로 변환하여 이미지를 확인한다.\n",
    "#2차원 이미지로 변환\n",
    "img = train_data_img.iloc[3].values.reshape(32, 32)\n",
    "\n",
    "#이미지 확인\n",
    "plt.imshow(img, cmap='gray')"
   ]
  },
  {
   "cell_type": "code",
   "execution_count": 45,
   "metadata": {},
   "outputs": [
    {
     "name": "stdout",
     "output_type": "stream",
     "text": [
      "label\n",
      "rabbit          128\n",
      "bird            119\n",
      "building        108\n",
      "airplane         95\n",
      "cat              90\n",
      "emotion_face     88\n",
      "apple            51\n",
      "ball             37\n",
      "truck            32\n",
      "police_car       21\n",
      "Name: count, dtype: int64\n"
     ]
    }
   ],
   "source": [
    "#전체 데이터의 라벨 확인 \n",
    "print(train_data['label'].value_counts())"
   ]
  },
  {
   "cell_type": "code",
   "execution_count": 55,
   "metadata": {},
   "outputs": [],
   "source": [
    "#train_data의 데이터를 활용해 ML학습\n",
    "from sklearn.ensemble import RandomForestClassifier\n",
    "from sklearn.svm import SVC\n",
    "from sklearn.linear_model import LogisticRegression\n",
    "from sklearn.model_selection import train_test_split\n",
    "from sklearn.tree import DecisionTreeClassifier\n",
    "from sklearn.metrics import accuracy_score\n",
    "\n",
    "#학습 데이터와 레이블 데이터를 분리한다.\n",
    "X = train_data_img\n",
    "y = train_data['label']\n",
    "\n",
    "#train_test_split을 활용하여 학습 데이터와 테스트 데이터를 분리한다.\n",
    "X_train, X_test, y_train, y_test = train_test_split(X, y, test_size=0.2, random_state=42)\n",
    "\n",
    "\n"
   ]
  },
  {
   "cell_type": "code",
   "execution_count": 78,
   "metadata": {},
   "outputs": [
    {
     "name": "stdout",
     "output_type": "stream",
     "text": [
      "RandomForest Accuracy :  0.8701298701298701\n"
     ]
    }
   ],
   "source": [
    "#학습 모델 구축하기\n",
    "#RandomForest\n",
    "rf = RandomForestClassifier()\n",
    "rf.fit(X_train, y_train)\n",
    "rf_pred = rf.predict(X_test)\n",
    "rf_accuracy = accuracy_score(y_test, rf_pred)\n",
    "print('RandomForest Accuracy : ', rf_accuracy)"
   ]
  },
  {
   "cell_type": "code",
   "execution_count": 72,
   "metadata": {},
   "outputs": [
    {
     "name": "stdout",
     "output_type": "stream",
     "text": [
      "SVM Accuracy :  0.8441558441558441\n"
     ]
    }
   ],
   "source": [
    "#학습 모델 구축하기\n",
    "#SVM\n",
    "svm = SVC()\n",
    "svm.fit(X_train, y_train)\n",
    "svm_pred = svm.predict(X_test)\n",
    "svm_accuracy = accuracy_score(y_test, svm_pred)\n",
    "print('SVM Accuracy : ', svm_accuracy)"
   ]
  },
  {
   "cell_type": "code",
   "execution_count": 58,
   "metadata": {},
   "outputs": [
    {
     "name": "stdout",
     "output_type": "stream",
     "text": [
      "LogisticRegression Accuracy :  0.7857142857142857\n"
     ]
    }
   ],
   "source": [
    "#학습 모델 구축하기\n",
    "#LogisticRegression\n",
    "lr = LogisticRegression()\n",
    "lr.fit(X_train, y_train)\n",
    "lr_pred = lr.predict(X_test)\n",
    "lr_accuracy = accuracy_score(y_test, lr_pred)\n",
    "print('LogisticRegression Accuracy : ', lr_accuracy)"
   ]
  },
  {
   "cell_type": "code",
   "execution_count": 59,
   "metadata": {},
   "outputs": [
    {
     "name": "stdout",
     "output_type": "stream",
     "text": [
      "DecisionTree Accuracy :  0.5909090909090909\n"
     ]
    }
   ],
   "source": [
    "#학습 모델 구축하기\n",
    "#DecisionTree\n",
    "dt = DecisionTreeClassifier()\n",
    "dt.fit(X_train, y_train)\n",
    "dt_pred = dt.predict(X_test)\n",
    "dt_accuracy = accuracy_score(y_test, dt_pred)\n",
    "print('DecisionTree Accuracy : ', dt_accuracy)\n"
   ]
  },
  {
   "cell_type": "code",
   "execution_count": null,
   "metadata": {},
   "outputs": [],
   "source": []
  },
  {
   "cell_type": "code",
   "execution_count": 79,
   "metadata": {},
   "outputs": [],
   "source": [
    "#test.csv 파일 가장 좋은 모델로 예측하기\n",
    "\n",
    "best_model = RandomForestClassifier()#RandomForest 모델이 가장 높은 정확도를 보임\n",
    "best_model.fit(X, y)\n",
    "\n",
    "y_pred = best_model.predict(test_data.iloc[:,1:])\n",
    "#\n",
    "submission = pd.DataFrame({'ID': test_data['ID'], 'label': y_pred})\n",
    "submission.to_csv('submission.csv', index=False)"
   ]
  }
 ],
 "metadata": {
  "kernelspec": {
   "display_name": "base",
   "language": "python",
   "name": "python3"
  },
  "language_info": {
   "codemirror_mode": {
    "name": "ipython",
    "version": 3
   },
   "file_extension": ".py",
   "mimetype": "text/x-python",
   "name": "python",
   "nbconvert_exporter": "python",
   "pygments_lexer": "ipython3",
   "version": "3.12.7"
  }
 },
 "nbformat": 4,
 "nbformat_minor": 2
}
