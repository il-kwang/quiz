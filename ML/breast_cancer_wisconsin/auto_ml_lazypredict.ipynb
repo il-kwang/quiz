{
  "cells": [
    {
      "cell_type": "markdown",
      "id": "e51d363a",
      "metadata": {
        "id": "e51d363a"
      },
      "source": [
        "## Heart Disease Dataset 심장질환 데이터셋\n",
        "\n",
        "https://www.kaggle.com/datasets/johnsmith88/heart-disease-dataset\n",
        "\n",
        "| 번호 | 특성명                                   | 컬럼명       | 설명                                                                 |\n",
        "|------|------------------------------------------|--------------|----------------------------------------------------------------------|\n",
        "| 1    | age                                      | age          | 나이                                                                |\n",
        "| 2    | sex                                      | sex          | 성별                                                                |\n",
        "| 3    | chest pain type                          | cp           | 흉통 유형 (4가지 값)                                                |\n",
        "| 4    | resting blood pressure                   | trestbps     | 휴지기 혈압                                                         |\n",
        "| 5    | serum cholestoral in mg/dl               | chol         | 혈청 콜레스테롤 (mg/dl)                                             |\n",
        "| 6    | fasting blood sugar > 120 mg/dl          | fbs          | 공복 혈당 > 120 mg/dl                                               |\n",
        "| 7    | resting electrocardiographic results     | restecg      | 휴식 심전도 결과 (값 0, 1, 2)                                       |\n",
        "| 8    | maximum heart rate achieved              | thalach      | 최대 심박수 달성                                                    |\n",
        "| 9    | exercise induced angina                  | exang        | 운동 유발 협심증                                                    |\n",
        "| 10   | oldpeak                                  | oldpeak      | 운동으로 인한 휴식 대비 올드피크 = ST 우울증                        |\n",
        "| 11   | the slope of the peak exercise ST segment| slope        | 피크 운동 ST 세그먼트의 기울기                                      |\n",
        "| 12   | number of major vessels                  | ca           | 플루오로소피로 색칠된 주요 혈관 수 (0-3개)                          |\n",
        "| 13   | thal                                     | thal         | 탈: 0 = 정상, 1 = 고정 결함, 2 = 가역 결함                          |\n",
        "| 14   | target                                   | target       | 대상: 환자의 심장 질환 유무 (0 = 질병 없음; 1 = 질병)               |"
      ]
    },
    {
      "cell_type": "markdown",
      "id": "OmmXE5JhP75I",
      "metadata": {
        "id": "OmmXE5JhP75I"
      },
      "source": [
        "심부전 발생여부 예측 : https://www.kaggle.com/datasets/andrewmvd/heart-failure-clinical-data\n",
        "\n",
        "심혈관 질환 : https://www.kaggle.com/datasets/sulianova/cardiovascular-disease-dataset"
      ]
    },
    {
      "cell_type": "markdown",
      "id": "16fb5b4b",
      "metadata": {
        "id": "16fb5b4b"
      },
      "source": [
        "## Load Dataset 데이터셋 로드"
      ]
    },
    {
      "cell_type": "code",
      "execution_count": 1,
      "id": "c9f21bf6",
      "metadata": {
        "colab": {
          "base_uri": "https://localhost:8080/",
          "height": 356
        },
        "id": "c9f21bf6",
        "outputId": "4db402c4-8051-44c8-8d5e-d6b32e560670"
      },
      "outputs": [
        {
          "data": {
            "text/html": [
              "<div>\n",
              "<style scoped>\n",
              "    .dataframe tbody tr th:only-of-type {\n",
              "        vertical-align: middle;\n",
              "    }\n",
              "\n",
              "    .dataframe tbody tr th {\n",
              "        vertical-align: top;\n",
              "    }\n",
              "\n",
              "    .dataframe thead th {\n",
              "        text-align: right;\n",
              "    }\n",
              "</style>\n",
              "<table border=\"1\" class=\"dataframe\">\n",
              "  <thead>\n",
              "    <tr style=\"text-align: right;\">\n",
              "      <th></th>\n",
              "      <th>age</th>\n",
              "      <th>sex</th>\n",
              "      <th>cp</th>\n",
              "      <th>trestbps</th>\n",
              "      <th>chol</th>\n",
              "      <th>fbs</th>\n",
              "      <th>restecg</th>\n",
              "      <th>thalach</th>\n",
              "      <th>exang</th>\n",
              "      <th>oldpeak</th>\n",
              "      <th>slope</th>\n",
              "      <th>ca</th>\n",
              "      <th>thal</th>\n",
              "      <th>target</th>\n",
              "    </tr>\n",
              "  </thead>\n",
              "  <tbody>\n",
              "    <tr>\n",
              "      <th>0</th>\n",
              "      <td>52</td>\n",
              "      <td>1</td>\n",
              "      <td>0</td>\n",
              "      <td>125</td>\n",
              "      <td>212</td>\n",
              "      <td>0</td>\n",
              "      <td>1</td>\n",
              "      <td>168</td>\n",
              "      <td>0</td>\n",
              "      <td>1.0</td>\n",
              "      <td>2</td>\n",
              "      <td>2</td>\n",
              "      <td>3</td>\n",
              "      <td>0</td>\n",
              "    </tr>\n",
              "    <tr>\n",
              "      <th>1</th>\n",
              "      <td>53</td>\n",
              "      <td>1</td>\n",
              "      <td>0</td>\n",
              "      <td>140</td>\n",
              "      <td>203</td>\n",
              "      <td>1</td>\n",
              "      <td>0</td>\n",
              "      <td>155</td>\n",
              "      <td>1</td>\n",
              "      <td>3.1</td>\n",
              "      <td>0</td>\n",
              "      <td>0</td>\n",
              "      <td>3</td>\n",
              "      <td>0</td>\n",
              "    </tr>\n",
              "    <tr>\n",
              "      <th>2</th>\n",
              "      <td>70</td>\n",
              "      <td>1</td>\n",
              "      <td>0</td>\n",
              "      <td>145</td>\n",
              "      <td>174</td>\n",
              "      <td>0</td>\n",
              "      <td>1</td>\n",
              "      <td>125</td>\n",
              "      <td>1</td>\n",
              "      <td>2.6</td>\n",
              "      <td>0</td>\n",
              "      <td>0</td>\n",
              "      <td>3</td>\n",
              "      <td>0</td>\n",
              "    </tr>\n",
              "    <tr>\n",
              "      <th>3</th>\n",
              "      <td>61</td>\n",
              "      <td>1</td>\n",
              "      <td>0</td>\n",
              "      <td>148</td>\n",
              "      <td>203</td>\n",
              "      <td>0</td>\n",
              "      <td>1</td>\n",
              "      <td>161</td>\n",
              "      <td>0</td>\n",
              "      <td>0.0</td>\n",
              "      <td>2</td>\n",
              "      <td>1</td>\n",
              "      <td>3</td>\n",
              "      <td>0</td>\n",
              "    </tr>\n",
              "    <tr>\n",
              "      <th>4</th>\n",
              "      <td>62</td>\n",
              "      <td>0</td>\n",
              "      <td>0</td>\n",
              "      <td>138</td>\n",
              "      <td>294</td>\n",
              "      <td>1</td>\n",
              "      <td>1</td>\n",
              "      <td>106</td>\n",
              "      <td>0</td>\n",
              "      <td>1.9</td>\n",
              "      <td>1</td>\n",
              "      <td>3</td>\n",
              "      <td>2</td>\n",
              "      <td>0</td>\n",
              "    </tr>\n",
              "  </tbody>\n",
              "</table>\n",
              "</div>"
            ],
            "text/plain": [
              "   age  sex  cp  trestbps  chol  fbs  restecg  thalach  exang  oldpeak  slope  \\\n",
              "0   52    1   0       125   212    0        1      168      0      1.0      2   \n",
              "1   53    1   0       140   203    1        0      155      1      3.1      0   \n",
              "2   70    1   0       145   174    0        1      125      1      2.6      0   \n",
              "3   61    1   0       148   203    0        1      161      0      0.0      2   \n",
              "4   62    0   0       138   294    1        1      106      0      1.9      1   \n",
              "\n",
              "   ca  thal  target  \n",
              "0   2     3       0  \n",
              "1   0     3       0  \n",
              "2   0     3       0  \n",
              "3   1     3       0  \n",
              "4   3     2       0  "
            ]
          },
          "execution_count": 1,
          "metadata": {},
          "output_type": "execute_result"
        }
      ],
      "source": [
        "import pandas as pd\n",
        "\n",
        "df = pd.read_csv('./heart.csv')\n",
        "\n",
        "df.head()"
      ]
    },
    {
      "cell_type": "markdown",
      "id": "d13439c9",
      "metadata": {
        "id": "d13439c9"
      },
      "source": [
        "# 1. 데이터 탐색 및 전처리"
      ]
    },
    {
      "cell_type": "markdown",
      "id": "3d6094b6",
      "metadata": {},
      "source": [
        "### 1-1 데이터 기본 정보 확인  데이터 타입, 결측치 확인"
      ]
    },
    {
      "cell_type": "code",
      "execution_count": 2,
      "id": "0e4dc75a",
      "metadata": {
        "colab": {
          "base_uri": "https://localhost:8080/"
        },
        "id": "0e4dc75a",
        "outputId": "deaf7587-0dc6-4c73-a8de-8ba8c5532ab6"
      },
      "outputs": [
        {
          "name": "stdout",
          "output_type": "stream",
          "text": [
            "<class 'pandas.core.frame.DataFrame'>\n",
            "RangeIndex: 1025 entries, 0 to 1024\n",
            "Data columns (total 14 columns):\n",
            " #   Column    Non-Null Count  Dtype  \n",
            "---  ------    --------------  -----  \n",
            " 0   age       1025 non-null   int64  \n",
            " 1   sex       1025 non-null   int64  \n",
            " 2   cp        1025 non-null   int64  \n",
            " 3   trestbps  1025 non-null   int64  \n",
            " 4   chol      1025 non-null   int64  \n",
            " 5   fbs       1025 non-null   int64  \n",
            " 6   restecg   1025 non-null   int64  \n",
            " 7   thalach   1025 non-null   int64  \n",
            " 8   exang     1025 non-null   int64  \n",
            " 9   oldpeak   1025 non-null   float64\n",
            " 10  slope     1025 non-null   int64  \n",
            " 11  ca        1025 non-null   int64  \n",
            " 12  thal      1025 non-null   int64  \n",
            " 13  target    1025 non-null   int64  \n",
            "dtypes: float64(1), int64(13)\n",
            "memory usage: 112.2 KB\n"
          ]
        }
      ],
      "source": [
        "df.info()"
      ]
    },
    {
      "cell_type": "markdown",
      "id": "485f7a95",
      "metadata": {},
      "source": [
        "### 1-2 수치형 데이터 통계 요약"
      ]
    },
    {
      "cell_type": "code",
      "execution_count": 3,
      "id": "54be9898",
      "metadata": {},
      "outputs": [
        {
          "data": {
            "text/html": [
              "<div>\n",
              "<style scoped>\n",
              "    .dataframe tbody tr th:only-of-type {\n",
              "        vertical-align: middle;\n",
              "    }\n",
              "\n",
              "    .dataframe tbody tr th {\n",
              "        vertical-align: top;\n",
              "    }\n",
              "\n",
              "    .dataframe thead th {\n",
              "        text-align: right;\n",
              "    }\n",
              "</style>\n",
              "<table border=\"1\" class=\"dataframe\">\n",
              "  <thead>\n",
              "    <tr style=\"text-align: right;\">\n",
              "      <th></th>\n",
              "      <th>age</th>\n",
              "      <th>sex</th>\n",
              "      <th>cp</th>\n",
              "      <th>trestbps</th>\n",
              "      <th>chol</th>\n",
              "      <th>fbs</th>\n",
              "      <th>restecg</th>\n",
              "      <th>thalach</th>\n",
              "      <th>exang</th>\n",
              "      <th>oldpeak</th>\n",
              "      <th>slope</th>\n",
              "      <th>ca</th>\n",
              "      <th>thal</th>\n",
              "      <th>target</th>\n",
              "    </tr>\n",
              "  </thead>\n",
              "  <tbody>\n",
              "    <tr>\n",
              "      <th>count</th>\n",
              "      <td>1025.000000</td>\n",
              "      <td>1025.000000</td>\n",
              "      <td>1025.000000</td>\n",
              "      <td>1025.000000</td>\n",
              "      <td>1025.00000</td>\n",
              "      <td>1025.000000</td>\n",
              "      <td>1025.000000</td>\n",
              "      <td>1025.000000</td>\n",
              "      <td>1025.000000</td>\n",
              "      <td>1025.000000</td>\n",
              "      <td>1025.000000</td>\n",
              "      <td>1025.000000</td>\n",
              "      <td>1025.000000</td>\n",
              "      <td>1025.000000</td>\n",
              "    </tr>\n",
              "    <tr>\n",
              "      <th>mean</th>\n",
              "      <td>54.434146</td>\n",
              "      <td>0.695610</td>\n",
              "      <td>0.942439</td>\n",
              "      <td>131.611707</td>\n",
              "      <td>246.00000</td>\n",
              "      <td>0.149268</td>\n",
              "      <td>0.529756</td>\n",
              "      <td>149.114146</td>\n",
              "      <td>0.336585</td>\n",
              "      <td>1.071512</td>\n",
              "      <td>1.385366</td>\n",
              "      <td>0.754146</td>\n",
              "      <td>2.323902</td>\n",
              "      <td>0.513171</td>\n",
              "    </tr>\n",
              "    <tr>\n",
              "      <th>std</th>\n",
              "      <td>9.072290</td>\n",
              "      <td>0.460373</td>\n",
              "      <td>1.029641</td>\n",
              "      <td>17.516718</td>\n",
              "      <td>51.59251</td>\n",
              "      <td>0.356527</td>\n",
              "      <td>0.527878</td>\n",
              "      <td>23.005724</td>\n",
              "      <td>0.472772</td>\n",
              "      <td>1.175053</td>\n",
              "      <td>0.617755</td>\n",
              "      <td>1.030798</td>\n",
              "      <td>0.620660</td>\n",
              "      <td>0.500070</td>\n",
              "    </tr>\n",
              "    <tr>\n",
              "      <th>min</th>\n",
              "      <td>29.000000</td>\n",
              "      <td>0.000000</td>\n",
              "      <td>0.000000</td>\n",
              "      <td>94.000000</td>\n",
              "      <td>126.00000</td>\n",
              "      <td>0.000000</td>\n",
              "      <td>0.000000</td>\n",
              "      <td>71.000000</td>\n",
              "      <td>0.000000</td>\n",
              "      <td>0.000000</td>\n",
              "      <td>0.000000</td>\n",
              "      <td>0.000000</td>\n",
              "      <td>0.000000</td>\n",
              "      <td>0.000000</td>\n",
              "    </tr>\n",
              "    <tr>\n",
              "      <th>25%</th>\n",
              "      <td>48.000000</td>\n",
              "      <td>0.000000</td>\n",
              "      <td>0.000000</td>\n",
              "      <td>120.000000</td>\n",
              "      <td>211.00000</td>\n",
              "      <td>0.000000</td>\n",
              "      <td>0.000000</td>\n",
              "      <td>132.000000</td>\n",
              "      <td>0.000000</td>\n",
              "      <td>0.000000</td>\n",
              "      <td>1.000000</td>\n",
              "      <td>0.000000</td>\n",
              "      <td>2.000000</td>\n",
              "      <td>0.000000</td>\n",
              "    </tr>\n",
              "    <tr>\n",
              "      <th>50%</th>\n",
              "      <td>56.000000</td>\n",
              "      <td>1.000000</td>\n",
              "      <td>1.000000</td>\n",
              "      <td>130.000000</td>\n",
              "      <td>240.00000</td>\n",
              "      <td>0.000000</td>\n",
              "      <td>1.000000</td>\n",
              "      <td>152.000000</td>\n",
              "      <td>0.000000</td>\n",
              "      <td>0.800000</td>\n",
              "      <td>1.000000</td>\n",
              "      <td>0.000000</td>\n",
              "      <td>2.000000</td>\n",
              "      <td>1.000000</td>\n",
              "    </tr>\n",
              "    <tr>\n",
              "      <th>75%</th>\n",
              "      <td>61.000000</td>\n",
              "      <td>1.000000</td>\n",
              "      <td>2.000000</td>\n",
              "      <td>140.000000</td>\n",
              "      <td>275.00000</td>\n",
              "      <td>0.000000</td>\n",
              "      <td>1.000000</td>\n",
              "      <td>166.000000</td>\n",
              "      <td>1.000000</td>\n",
              "      <td>1.800000</td>\n",
              "      <td>2.000000</td>\n",
              "      <td>1.000000</td>\n",
              "      <td>3.000000</td>\n",
              "      <td>1.000000</td>\n",
              "    </tr>\n",
              "    <tr>\n",
              "      <th>max</th>\n",
              "      <td>77.000000</td>\n",
              "      <td>1.000000</td>\n",
              "      <td>3.000000</td>\n",
              "      <td>200.000000</td>\n",
              "      <td>564.00000</td>\n",
              "      <td>1.000000</td>\n",
              "      <td>2.000000</td>\n",
              "      <td>202.000000</td>\n",
              "      <td>1.000000</td>\n",
              "      <td>6.200000</td>\n",
              "      <td>2.000000</td>\n",
              "      <td>4.000000</td>\n",
              "      <td>3.000000</td>\n",
              "      <td>1.000000</td>\n",
              "    </tr>\n",
              "  </tbody>\n",
              "</table>\n",
              "</div>"
            ],
            "text/plain": [
              "               age          sex           cp     trestbps        chol  \\\n",
              "count  1025.000000  1025.000000  1025.000000  1025.000000  1025.00000   \n",
              "mean     54.434146     0.695610     0.942439   131.611707   246.00000   \n",
              "std       9.072290     0.460373     1.029641    17.516718    51.59251   \n",
              "min      29.000000     0.000000     0.000000    94.000000   126.00000   \n",
              "25%      48.000000     0.000000     0.000000   120.000000   211.00000   \n",
              "50%      56.000000     1.000000     1.000000   130.000000   240.00000   \n",
              "75%      61.000000     1.000000     2.000000   140.000000   275.00000   \n",
              "max      77.000000     1.000000     3.000000   200.000000   564.00000   \n",
              "\n",
              "               fbs      restecg      thalach        exang      oldpeak  \\\n",
              "count  1025.000000  1025.000000  1025.000000  1025.000000  1025.000000   \n",
              "mean      0.149268     0.529756   149.114146     0.336585     1.071512   \n",
              "std       0.356527     0.527878    23.005724     0.472772     1.175053   \n",
              "min       0.000000     0.000000    71.000000     0.000000     0.000000   \n",
              "25%       0.000000     0.000000   132.000000     0.000000     0.000000   \n",
              "50%       0.000000     1.000000   152.000000     0.000000     0.800000   \n",
              "75%       0.000000     1.000000   166.000000     1.000000     1.800000   \n",
              "max       1.000000     2.000000   202.000000     1.000000     6.200000   \n",
              "\n",
              "             slope           ca         thal       target  \n",
              "count  1025.000000  1025.000000  1025.000000  1025.000000  \n",
              "mean      1.385366     0.754146     2.323902     0.513171  \n",
              "std       0.617755     1.030798     0.620660     0.500070  \n",
              "min       0.000000     0.000000     0.000000     0.000000  \n",
              "25%       1.000000     0.000000     2.000000     0.000000  \n",
              "50%       1.000000     0.000000     2.000000     1.000000  \n",
              "75%       2.000000     1.000000     3.000000     1.000000  \n",
              "max       2.000000     4.000000     3.000000     1.000000  "
            ]
          },
          "execution_count": 3,
          "metadata": {},
          "output_type": "execute_result"
        }
      ],
      "source": [
        "df.describe()"
      ]
    },
    {
      "cell_type": "markdown",
      "id": "cb6206b8",
      "metadata": {
        "id": "cb6206b8"
      },
      "source": [
        "### 1-3 유니크한 값"
      ]
    },
    {
      "cell_type": "code",
      "execution_count": 4,
      "id": "1171d65f",
      "metadata": {
        "colab": {
          "base_uri": "https://localhost:8080/",
          "height": 523
        },
        "id": "1171d65f",
        "outputId": "ee8c286e-d1e9-41a0-9762-c0f69d84a4c7"
      },
      "outputs": [
        {
          "data": {
            "text/plain": [
              "age          41\n",
              "sex           2\n",
              "cp            4\n",
              "trestbps     49\n",
              "chol        152\n",
              "fbs           2\n",
              "restecg       3\n",
              "thalach      91\n",
              "exang         2\n",
              "oldpeak      40\n",
              "slope         3\n",
              "ca            5\n",
              "thal          4\n",
              "target        2\n",
              "dtype: int64"
            ]
          },
          "execution_count": 4,
          "metadata": {},
          "output_type": "execute_result"
        }
      ],
      "source": [
        "df.nunique() #고유값의 갯수"
      ]
    },
    {
      "cell_type": "markdown",
      "id": "5a8cc4bd",
      "metadata": {},
      "source": [
        "### 1-4 타겟 변수 분포 확인(시각화)"
      ]
    },
    {
      "cell_type": "code",
      "execution_count": 5,
      "id": "5e75c977",
      "metadata": {},
      "outputs": [
        {
          "data": {
            "image/png": "[encoded data removed]",
            "text/plain": [
              "<Figure size 640x480 with 1 Axes>"
            ]
          },
          "metadata": {},
          "output_type": "display_data"
        }
      ],
      "source": [
        "import seaborn as sns\n",
        "import matplotlib.pyplot as plt\n",
        "\n",
        "import matplotlib.font_manager as fm\n",
        "\n",
        "# 한글 폰트 설정 (Windows의 경우 'Malgun Gothic' 사용)\n",
        "font_path = \"C:/Windows/Fonts/malgun.ttf\"  # 맑은 고딕 폰트 경로\n",
        "font_name = fm.FontProperties(fname=font_path).get_name()\n",
        "plt.rc('font', family=font_name)\n",
        "\n",
        "y_data = df['target']\n",
        "\n",
        "sns.countplot(data = df , x = 'target')\n",
        "plt.title('심장 질환 발병수')\n",
        "plt.xlabel('심장 질환')\n",
        "plt.ylabel('발생 빈도')\n",
        "\n",
        "plt.xticks([0, 1], ['0.없음', '1.있음'])  # x축 레이블 변경\n",
        "plt.show()\n"
      ]
    },
    {
      "cell_type": "markdown",
      "id": "ca2048b3",
      "metadata": {},
      "source": [
        "### 상관관계 분석"
      ]
    },
    {
      "cell_type": "code",
      "execution_count": 6,
      "id": "d32e23a0",
      "metadata": {},
      "outputs": [
        {
          "name": "stderr",
          "output_type": "stream",
          "text": [
            "c:\\Users\\302\\anaconda3\\Lib\\site-packages\\seaborn\\utils.py:61: UserWarning: Glyph 8722 (\\N{MINUS SIGN}) missing from current font.\n",
            "  fig.canvas.draw()\n",
            "c:\\Users\\302\\anaconda3\\Lib\\site-packages\\IPython\\core\\pylabtools.py:170: UserWarning: Glyph 8722 (\\N{MINUS SIGN}) missing from current font.\n",
            "  fig.canvas.print_figure(bytes_io, **kw)\n"
          ]
        },
        {
          "data": {
            "image/png": "[encoded data removed]",
            "text/plain": [
              "<Figure size 1200x800 with 2 Axes>"
            ]
          },
          "metadata": {},
          "output_type": "display_data"
        }
      ],
      "source": [
        "correlation = df.corr()\n",
        "plt.figure(figsize=(12, 8))\n",
        "sns.heatmap(correlation, annot=True, fmt=\".2f\", cmap='coolwarm', center=0)\n",
        "plt.title('상관 행렬')\n",
        "plt.show()\n",
        "\n"
      ]
    },
    {
      "cell_type": "markdown",
      "id": "009d9c11",
      "metadata": {
        "id": "009d9c11"
      },
      "source": [
        "# Automatically Visualize Dataset 자동 시각화\n",
        "\n",
        "AutoViz 설치\n",
        "\n",
        "https://github.com/AutoViML/AutoViz"
      ]
    },
    {
      "cell_type": "code",
      "execution_count": 27,
      "id": "e9dc09ef",
      "metadata": {
        "colab": {
          "base_uri": "https://localhost:8080/",
          "height": 1000
        },
        "id": "e9dc09ef",
        "outputId": "5b395783-d73c-4775-acc4-1882234b5b9e",
        "scrolled": false
      },
      "outputs": [
        {
          "name": "stdout",
          "output_type": "stream",
          "text": [
            "Shape of your Data Set loaded: (1025, 14)\n",
            "#######################################################################################\n",
            "######################## C L A S S I F Y I N G  V A R I A B L E S  ####################\n",
            "#######################################################################################\n",
            "Classifying variables in data set...\n",
            "  Printing up to 30 columns (max) in each category:\n",
            "    Numeric Columns : ['oldpeak']\n",
            "    Integer-Categorical Columns: ['age', 'cp', 'trestbps', 'chol', 'restecg', 'thalach', 'slope', 'ca', 'thal']\n",
            "    String-Categorical Columns: []\n",
            "    Factor-Categorical Columns: []\n",
            "    String-Boolean Columns: []\n",
            "    Numeric-Boolean Columns: ['sex', 'fbs', 'exang']\n",
            "    Discrete String Columns: []\n",
            "    NLP text Columns: []\n",
            "    Date Time Columns: []\n",
            "    ID Columns: []\n",
            "    Columns that will not be considered in modeling: []\n",
            "    13 Predictors classified...\n",
            "        No variables removed since no ID or low-information variables found in data set\n",
            "Since Number of Rows in data 1025 exceeds maximum, randomly sampling 1025 rows for EDA...\n",
            "\n",
            "################ Binary_Classification problem #####################\n",
            "   Columns to delete:\n",
            "'   []'\n",
            "   Boolean variables %s \n",
            "\"   ['sex', 'fbs', 'exang']\"\n",
            "   Categorical variables %s \n",
            "(\"   ['age', 'cp', 'trestbps', 'chol', 'restecg', 'thalach', 'slope', 'ca', \"\n",
            " \"'thal', 'sex', 'fbs', 'exang']\")\n",
            "   Continuous variables %s \n",
            "\"   ['oldpeak']\"\n",
            "   Discrete string variables %s \n",
            "'   []'\n",
            "   Date and time variables %s \n",
            "'   []'\n",
            "   ID variables %s \n",
            "'   []'\n",
            "   Target variable %s \n",
            "'   target'\n",
            "To fix these data quality issues in the dataset, import FixDQ from autoviz...\n",
            "There are 723 duplicate rows in your dataset\n",
            "    Alert: Dropping duplicate rows can sometimes cause your column data types to change to object!\n",
            "    All variables classified into correct types.\n"
          ]
        },
        {
          "data": {
            "text/html": [
              "<style type=\"text/css\">\n",
              "#T_954ec_row0_col0, #T_954ec_row0_col2, #T_954ec_row0_col5, #T_954ec_row1_col0, #T_954ec_row1_col2, #T_954ec_row1_col5, #T_954ec_row2_col0, #T_954ec_row2_col2, #T_954ec_row2_col5, #T_954ec_row3_col0, #T_954ec_row3_col2, #T_954ec_row3_col5, #T_954ec_row4_col0, #T_954ec_row4_col2, #T_954ec_row4_col5, #T_954ec_row5_col0, #T_954ec_row5_col2, #T_954ec_row5_col5, #T_954ec_row6_col0, #T_954ec_row6_col2, #T_954ec_row6_col5, #T_954ec_row7_col0, #T_954ec_row7_col2, #T_954ec_row7_col5, #T_954ec_row8_col0, #T_954ec_row8_col2, #T_954ec_row8_col5, #T_954ec_row9_col0, #T_954ec_row9_col2, #T_954ec_row9_col5, #T_954ec_row10_col0, #T_954ec_row10_col2, #T_954ec_row10_col5, #T_954ec_row11_col0, #T_954ec_row11_col2, #T_954ec_row11_col5, #T_954ec_row12_col0, #T_954ec_row12_col2, #T_954ec_row12_col5, #T_954ec_row13_col0, #T_954ec_row13_col2, #T_954ec_row13_col5 {\n",
              "  font-family: Segoe UI;\n",
              "}\n",
              "#T_954ec_row0_col1, #T_954ec_row1_col1, #T_954ec_row1_col3, #T_954ec_row1_col4, #T_954ec_row2_col1, #T_954ec_row2_col3, #T_954ec_row2_col4, #T_954ec_row3_col1, #T_954ec_row4_col1, #T_954ec_row5_col1, #T_954ec_row5_col3, #T_954ec_row5_col4, #T_954ec_row6_col1, #T_954ec_row6_col3, #T_954ec_row6_col4, #T_954ec_row7_col1, #T_954ec_row8_col1, #T_954ec_row8_col3, #T_954ec_row8_col4, #T_954ec_row9_col1, #T_954ec_row9_col3, #T_954ec_row10_col1, #T_954ec_row10_col3, #T_954ec_row10_col4, #T_954ec_row11_col1, #T_954ec_row11_col3, #T_954ec_row12_col1, #T_954ec_row12_col3, #T_954ec_row12_col4, #T_954ec_row13_col1, #T_954ec_row13_col3, #T_954ec_row13_col4 {\n",
              "  background-color: #fff5f0;\n",
              "  color: #000000;\n",
              "  font-family: Segoe UI;\n",
              "}\n",
              "#T_954ec_row0_col3 {\n",
              "  background-color: #fcc2aa;\n",
              "  color: #000000;\n",
              "  font-family: Segoe UI;\n",
              "}\n",
              "#T_954ec_row0_col4 {\n",
              "  background-color: #fedecf;\n",
              "  color: #000000;\n",
              "  font-family: Segoe UI;\n",
              "}\n",
              "#T_954ec_row3_col3 {\n",
              "  background-color: #cc191e;\n",
              "  color: #f1f1f1;\n",
              "  font-family: Segoe UI;\n",
              "}\n",
              "#T_954ec_row3_col4 {\n",
              "  background-color: #fc997a;\n",
              "  color: #000000;\n",
              "  font-family: Segoe UI;\n",
              "}\n",
              "#T_954ec_row4_col3, #T_954ec_row4_col4 {\n",
              "  background-color: #67000d;\n",
              "  color: #f1f1f1;\n",
              "  font-family: Segoe UI;\n",
              "}\n",
              "#T_954ec_row7_col3 {\n",
              "  background-color: #f5523a;\n",
              "  color: #f1f1f1;\n",
              "  font-family: Segoe UI;\n",
              "}\n",
              "#T_954ec_row7_col4 {\n",
              "  background-color: #fc9879;\n",
              "  color: #000000;\n",
              "  font-family: Segoe UI;\n",
              "}\n",
              "#T_954ec_row9_col4 {\n",
              "  background-color: #fff4ee;\n",
              "  color: #000000;\n",
              "  font-family: Segoe UI;\n",
              "}\n",
              "#T_954ec_row11_col4 {\n",
              "  background-color: #fff4ef;\n",
              "  color: #000000;\n",
              "  font-family: Segoe UI;\n",
              "}\n",
              "</style>\n",
              "<table id=\"T_954ec\">\n",
              "  <thead>\n",
              "    <tr>\n",
              "      <th class=\"blank level0\" >&nbsp;</th>\n",
              "      <th id=\"T_954ec_level0_col0\" class=\"col_heading level0 col0\" >Data Type</th>\n",
              "      <th id=\"T_954ec_level0_col1\" class=\"col_heading level0 col1\" >Missing Values%</th>\n",
              "      <th id=\"T_954ec_level0_col2\" class=\"col_heading level0 col2\" >Unique Values%</th>\n",
              "      <th id=\"T_954ec_level0_col3\" class=\"col_heading level0 col3\" >Minimum Value</th>\n",
              "      <th id=\"T_954ec_level0_col4\" class=\"col_heading level0 col4\" >Maximum Value</th>\n",
              "      <th id=\"T_954ec_level0_col5\" class=\"col_heading level0 col5\" >DQ Issue</th>\n",
              "    </tr>\n",
              "  </thead>\n",
              "  <tbody>\n",
              "    <tr>\n",
              "      <th id=\"T_954ec_level0_row0\" class=\"row_heading level0 row0\" >age</th>\n",
              "      <td id=\"T_954ec_row0_col0\" class=\"data row0 col0\" >int64</td>\n",
              "      <td id=\"T_954ec_row0_col1\" class=\"data row0 col1\" >0.000000</td>\n",
              "      <td id=\"T_954ec_row0_col2\" class=\"data row0 col2\" >13</td>\n",
              "      <td id=\"T_954ec_row0_col3\" class=\"data row0 col3\" >29.000000</td>\n",
              "      <td id=\"T_954ec_row0_col4\" class=\"data row0 col4\" >77.000000</td>\n",
              "      <td id=\"T_954ec_row0_col5\" class=\"data row0 col5\" >No issue</td>\n",
              "    </tr>\n",
              "    <tr>\n",
              "      <th id=\"T_954ec_level0_row1\" class=\"row_heading level0 row1\" >sex</th>\n",
              "      <td id=\"T_954ec_row1_col0\" class=\"data row1 col0\" >int64</td>\n",
              "      <td id=\"T_954ec_row1_col1\" class=\"data row1 col1\" >0.000000</td>\n",
              "      <td id=\"T_954ec_row1_col2\" class=\"data row1 col2\" >0</td>\n",
              "      <td id=\"T_954ec_row1_col3\" class=\"data row1 col3\" >0.000000</td>\n",
              "      <td id=\"T_954ec_row1_col4\" class=\"data row1 col4\" >1.000000</td>\n",
              "      <td id=\"T_954ec_row1_col5\" class=\"data row1 col5\" >No issue</td>\n",
              "    </tr>\n",
              "    <tr>\n",
              "      <th id=\"T_954ec_level0_row2\" class=\"row_heading level0 row2\" >cp</th>\n",
              "      <td id=\"T_954ec_row2_col0\" class=\"data row2 col0\" >int64</td>\n",
              "      <td id=\"T_954ec_row2_col1\" class=\"data row2 col1\" >0.000000</td>\n",
              "      <td id=\"T_954ec_row2_col2\" class=\"data row2 col2\" >1</td>\n",
              "      <td id=\"T_954ec_row2_col3\" class=\"data row2 col3\" >0.000000</td>\n",
              "      <td id=\"T_954ec_row2_col4\" class=\"data row2 col4\" >3.000000</td>\n",
              "      <td id=\"T_954ec_row2_col5\" class=\"data row2 col5\" >No issue</td>\n",
              "    </tr>\n",
              "    <tr>\n",
              "      <th id=\"T_954ec_level0_row3\" class=\"row_heading level0 row3\" >trestbps</th>\n",
              "      <td id=\"T_954ec_row3_col0\" class=\"data row3 col0\" >int64</td>\n",
              "      <td id=\"T_954ec_row3_col1\" class=\"data row3 col1\" >0.000000</td>\n",
              "      <td id=\"T_954ec_row3_col2\" class=\"data row3 col2\" >16</td>\n",
              "      <td id=\"T_954ec_row3_col3\" class=\"data row3 col3\" >94.000000</td>\n",
              "      <td id=\"T_954ec_row3_col4\" class=\"data row3 col4\" >200.000000</td>\n",
              "      <td id=\"T_954ec_row3_col5\" class=\"data row3 col5\" >Column has 9 outliers greater than upper bound (170.00) or lower than lower bound(90.00). Cap them or remove them.</td>\n",
              "    </tr>\n",
              "    <tr>\n",
              "      <th id=\"T_954ec_level0_row4\" class=\"row_heading level0 row4\" >chol</th>\n",
              "      <td id=\"T_954ec_row4_col0\" class=\"data row4 col0\" >int64</td>\n",
              "      <td id=\"T_954ec_row4_col1\" class=\"data row4 col1\" >0.000000</td>\n",
              "      <td id=\"T_954ec_row4_col2\" class=\"data row4 col2\" >50</td>\n",
              "      <td id=\"T_954ec_row4_col3\" class=\"data row4 col3\" >126.000000</td>\n",
              "      <td id=\"T_954ec_row4_col4\" class=\"data row4 col4\" >564.000000</td>\n",
              "      <td id=\"T_954ec_row4_col5\" class=\"data row4 col5\" >Column has 5 outliers greater than upper bound (370.38) or lower than lower bound(115.38). Cap them or remove them.</td>\n",
              "    </tr>\n",
              "    <tr>\n",
              "      <th id=\"T_954ec_level0_row5\" class=\"row_heading level0 row5\" >fbs</th>\n",
              "      <td id=\"T_954ec_row5_col0\" class=\"data row5 col0\" >int64</td>\n",
              "      <td id=\"T_954ec_row5_col1\" class=\"data row5 col1\" >0.000000</td>\n",
              "      <td id=\"T_954ec_row5_col2\" class=\"data row5 col2\" >0</td>\n",
              "      <td id=\"T_954ec_row5_col3\" class=\"data row5 col3\" >0.000000</td>\n",
              "      <td id=\"T_954ec_row5_col4\" class=\"data row5 col4\" >1.000000</td>\n",
              "      <td id=\"T_954ec_row5_col5\" class=\"data row5 col5\" >No issue</td>\n",
              "    </tr>\n",
              "    <tr>\n",
              "      <th id=\"T_954ec_level0_row6\" class=\"row_heading level0 row6\" >restecg</th>\n",
              "      <td id=\"T_954ec_row6_col0\" class=\"data row6 col0\" >int64</td>\n",
              "      <td id=\"T_954ec_row6_col1\" class=\"data row6 col1\" >0.000000</td>\n",
              "      <td id=\"T_954ec_row6_col2\" class=\"data row6 col2\" >0</td>\n",
              "      <td id=\"T_954ec_row6_col3\" class=\"data row6 col3\" >0.000000</td>\n",
              "      <td id=\"T_954ec_row6_col4\" class=\"data row6 col4\" >2.000000</td>\n",
              "      <td id=\"T_954ec_row6_col5\" class=\"data row6 col5\" >No issue</td>\n",
              "    </tr>\n",
              "    <tr>\n",
              "      <th id=\"T_954ec_level0_row7\" class=\"row_heading level0 row7\" >thalach</th>\n",
              "      <td id=\"T_954ec_row7_col0\" class=\"data row7 col0\" >int64</td>\n",
              "      <td id=\"T_954ec_row7_col1\" class=\"data row7 col1\" >0.000000</td>\n",
              "      <td id=\"T_954ec_row7_col2\" class=\"data row7 col2\" >30</td>\n",
              "      <td id=\"T_954ec_row7_col3\" class=\"data row7 col3\" >71.000000</td>\n",
              "      <td id=\"T_954ec_row7_col4\" class=\"data row7 col4\" >202.000000</td>\n",
              "      <td id=\"T_954ec_row7_col5\" class=\"data row7 col5\" >Column has 1 outliers greater than upper bound (215.12) or lower than lower bound(84.12). Cap them or remove them.</td>\n",
              "    </tr>\n",
              "    <tr>\n",
              "      <th id=\"T_954ec_level0_row8\" class=\"row_heading level0 row8\" >exang</th>\n",
              "      <td id=\"T_954ec_row8_col0\" class=\"data row8 col0\" >int64</td>\n",
              "      <td id=\"T_954ec_row8_col1\" class=\"data row8 col1\" >0.000000</td>\n",
              "      <td id=\"T_954ec_row8_col2\" class=\"data row8 col2\" >0</td>\n",
              "      <td id=\"T_954ec_row8_col3\" class=\"data row8 col3\" >0.000000</td>\n",
              "      <td id=\"T_954ec_row8_col4\" class=\"data row8 col4\" >1.000000</td>\n",
              "      <td id=\"T_954ec_row8_col5\" class=\"data row8 col5\" >No issue</td>\n",
              "    </tr>\n",
              "    <tr>\n",
              "      <th id=\"T_954ec_level0_row9\" class=\"row_heading level0 row9\" >oldpeak</th>\n",
              "      <td id=\"T_954ec_row9_col0\" class=\"data row9 col0\" >float64</td>\n",
              "      <td id=\"T_954ec_row9_col1\" class=\"data row9 col1\" >0.000000</td>\n",
              "      <td id=\"T_954ec_row9_col2\" class=\"data row9 col2\" >NA</td>\n",
              "      <td id=\"T_954ec_row9_col3\" class=\"data row9 col3\" >0.000000</td>\n",
              "      <td id=\"T_954ec_row9_col4\" class=\"data row9 col4\" >6.200000</td>\n",
              "      <td id=\"T_954ec_row9_col5\" class=\"data row9 col5\" >Column has 5 outliers greater than upper bound (4.00) or lower than lower bound(-2.40). Cap them or remove them.</td>\n",
              "    </tr>\n",
              "    <tr>\n",
              "      <th id=\"T_954ec_level0_row10\" class=\"row_heading level0 row10\" >slope</th>\n",
              "      <td id=\"T_954ec_row10_col0\" class=\"data row10 col0\" >int64</td>\n",
              "      <td id=\"T_954ec_row10_col1\" class=\"data row10 col1\" >0.000000</td>\n",
              "      <td id=\"T_954ec_row10_col2\" class=\"data row10 col2\" >0</td>\n",
              "      <td id=\"T_954ec_row10_col3\" class=\"data row10 col3\" >0.000000</td>\n",
              "      <td id=\"T_954ec_row10_col4\" class=\"data row10 col4\" >2.000000</td>\n",
              "      <td id=\"T_954ec_row10_col5\" class=\"data row10 col5\" >No issue</td>\n",
              "    </tr>\n",
              "    <tr>\n",
              "      <th id=\"T_954ec_level0_row11\" class=\"row_heading level0 row11\" >ca</th>\n",
              "      <td id=\"T_954ec_row11_col0\" class=\"data row11 col0\" >int64</td>\n",
              "      <td id=\"T_954ec_row11_col1\" class=\"data row11 col1\" >0.000000</td>\n",
              "      <td id=\"T_954ec_row11_col2\" class=\"data row11 col2\" >1</td>\n",
              "      <td id=\"T_954ec_row11_col3\" class=\"data row11 col3\" >0.000000</td>\n",
              "      <td id=\"T_954ec_row11_col4\" class=\"data row11 col4\" >4.000000</td>\n",
              "      <td id=\"T_954ec_row11_col5\" class=\"data row11 col5\" >Column has 24 outliers greater than upper bound (2.50) or lower than lower bound(-1.50). Cap them or remove them.</td>\n",
              "    </tr>\n",
              "    <tr>\n",
              "      <th id=\"T_954ec_level0_row12\" class=\"row_heading level0 row12\" >thal</th>\n",
              "      <td id=\"T_954ec_row12_col0\" class=\"data row12 col0\" >int64</td>\n",
              "      <td id=\"T_954ec_row12_col1\" class=\"data row12 col1\" >0.000000</td>\n",
              "      <td id=\"T_954ec_row12_col2\" class=\"data row12 col2\" >1</td>\n",
              "      <td id=\"T_954ec_row12_col3\" class=\"data row12 col3\" >0.000000</td>\n",
              "      <td id=\"T_954ec_row12_col4\" class=\"data row12 col4\" >3.000000</td>\n",
              "      <td id=\"T_954ec_row12_col5\" class=\"data row12 col5\" >Column has 2 outliers greater than upper bound (4.50) or lower than lower bound(0.50). Cap them or remove them.</td>\n",
              "    </tr>\n",
              "    <tr>\n",
              "      <th id=\"T_954ec_level0_row13\" class=\"row_heading level0 row13\" >target</th>\n",
              "      <td id=\"T_954ec_row13_col0\" class=\"data row13 col0\" >int64</td>\n",
              "      <td id=\"T_954ec_row13_col1\" class=\"data row13 col1\" >0.000000</td>\n",
              "      <td id=\"T_954ec_row13_col2\" class=\"data row13 col2\" >0</td>\n",
              "      <td id=\"T_954ec_row13_col3\" class=\"data row13 col3\" >0.000000</td>\n",
              "      <td id=\"T_954ec_row13_col4\" class=\"data row13 col4\" >1.000000</td>\n",
              "      <td id=\"T_954ec_row13_col5\" class=\"data row13 col5\" >Target column</td>\n",
              "    </tr>\n",
              "  </tbody>\n",
              "</table>\n"
            ],
            "text/plain": [
              "<pandas.io.formats.style.Styler at 0x1b4fb7c5a00>"
            ]
          },
          "metadata": {},
          "output_type": "display_data"
        },
        {
          "name": "stdout",
          "output_type": "stream",
          "text": [
            "All Plots are saved in .\\AutoViz_Plots\\target\n",
            "Time to run AutoViz = 3 seconds \n"
          ]
        },
        {
          "data": {
            "text/html": [
              "<div>\n",
              "<style scoped>\n",
              "    .dataframe tbody tr th:only-of-type {\n",
              "        vertical-align: middle;\n",
              "    }\n",
              "\n",
              "    .dataframe tbody tr th {\n",
              "        vertical-align: top;\n",
              "    }\n",
              "\n",
              "    .dataframe thead th {\n",
              "        text-align: right;\n",
              "    }\n",
              "</style>\n",
              "<table border=\"1\" class=\"dataframe\">\n",
              "  <thead>\n",
              "    <tr style=\"text-align: center;\">\n",
              "      <th></th>\n",
              "      <th>age</th>\n",
              "      <th>sex</th>\n",
              "      <th>cp</th>\n",
              "      <th>trestbps</th>\n",
              "      <th>chol</th>\n",
              "      <th>fbs</th>\n",
              "      <th>restecg</th>\n",
              "      <th>thalach</th>\n",
              "      <th>exang</th>\n",
              "      <th>oldpeak</th>\n",
              "      <th>slope</th>\n",
              "      <th>ca</th>\n",
              "      <th>thal</th>\n",
              "      <th>target</th>\n",
              "    </tr>\n",
              "  </thead>\n",
              "  <tbody>\n",
              "    <tr>\n",
              "      <th>807</th>\n",
              "      <td>44</td>\n",
              "      <td>1</td>\n",
              "      <td>2</td>\n",
              "      <td>130</td>\n",
              "      <td>233</td>\n",
              "      <td>0</td>\n",
              "      <td>1</td>\n",
              "      <td>179</td>\n",
              "      <td>1</td>\n",
              "      <td>0.40</td>\n",
              "      <td>2</td>\n",
              "      <td>0</td>\n",
              "      <td>2</td>\n",
              "      <td>0</td>\n",
              "    </tr>\n",
              "    <tr>\n",
              "      <th>27</th>\n",
              "      <td>58</td>\n",
              "      <td>0</td>\n",
              "      <td>1</td>\n",
              "      <td>136</td>\n",
              "      <td>319</td>\n",
              "      <td>1</td>\n",
              "      <td>0</td>\n",
              "      <td>152</td>\n",
              "      <td>0</td>\n",
              "      <td>0.00</td>\n",
              "      <td>2</td>\n",
              "      <td>2</td>\n",
              "      <td>2</td>\n",
              "      <td>1</td>\n",
              "    </tr>\n",
              "    <tr>\n",
              "      <th>77</th>\n",
              "      <td>63</td>\n",
              "      <td>1</td>\n",
              "      <td>0</td>\n",
              "      <td>140</td>\n",
              "      <td>187</td>\n",
              "      <td>0</td>\n",
              "      <td>0</td>\n",
              "      <td>144</td>\n",
              "      <td>1</td>\n",
              "      <td>4.00</td>\n",
              "      <td>2</td>\n",
              "      <td>2</td>\n",
              "      <td>3</td>\n",
              "      <td>1</td>\n",
              "    </tr>\n",
              "    <tr>\n",
              "      <th>406</th>\n",
              "      <td>58</td>\n",
              "      <td>1</td>\n",
              "      <td>2</td>\n",
              "      <td>140</td>\n",
              "      <td>211</td>\n",
              "      <td>1</td>\n",
              "      <td>0</td>\n",
              "      <td>165</td>\n",
              "      <td>0</td>\n",
              "      <td>0.00</td>\n",
              "      <td>2</td>\n",
              "      <td>0</td>\n",
              "      <td>2</td>\n",
              "      <td>0</td>\n",
              "    </tr>\n",
              "    <tr>\n",
              "      <th>886</th>\n",
              "      <td>61</td>\n",
              "      <td>1</td>\n",
              "      <td>0</td>\n",
              "      <td>120</td>\n",
              "      <td>260</td>\n",
              "      <td>0</td>\n",
              "      <td>1</td>\n",
              "      <td>140</td>\n",
              "      <td>1</td>\n",
              "      <td>3.60</td>\n",
              "      <td>1</td>\n",
              "      <td>1</td>\n",
              "      <td>3</td>\n",
              "      <td>1</td>\n",
              "    </tr>\n",
              "    <tr>\n",
              "      <th>...</th>\n",
              "      <td>...</td>\n",
              "      <td>...</td>\n",
              "      <td>...</td>\n",
              "      <td>...</td>\n",
              "      <td>...</td>\n",
              "      <td>...</td>\n",
              "      <td>...</td>\n",
              "      <td>...</td>\n",
              "      <td>...</td>\n",
              "      <td>...</td>\n",
              "      <td>...</td>\n",
              "      <td>...</td>\n",
              "      <td>...</td>\n",
              "      <td>...</td>\n",
              "    </tr>\n",
              "    <tr>\n",
              "      <th>835</th>\n",
              "      <td>49</td>\n",
              "      <td>1</td>\n",
              "      <td>2</td>\n",
              "      <td>118</td>\n",
              "      <td>149</td>\n",
              "      <td>0</td>\n",
              "      <td>0</td>\n",
              "      <td>126</td>\n",
              "      <td>0</td>\n",
              "      <td>0.80</td>\n",
              "      <td>2</td>\n",
              "      <td>3</td>\n",
              "      <td>2</td>\n",
              "      <td>1</td>\n",
              "    </tr>\n",
              "    <tr>\n",
              "      <th>192</th>\n",
              "      <td>67</td>\n",
              "      <td>0</td>\n",
              "      <td>2</td>\n",
              "      <td>115</td>\n",
              "      <td>564</td>\n",
              "      <td>0</td>\n",
              "      <td>0</td>\n",
              "      <td>160</td>\n",
              "      <td>0</td>\n",
              "      <td>1.60</td>\n",
              "      <td>1</td>\n",
              "      <td>0</td>\n",
              "      <td>3</td>\n",
              "      <td>0</td>\n",
              "    </tr>\n",
              "    <tr>\n",
              "      <th>629</th>\n",
              "      <td>65</td>\n",
              "      <td>1</td>\n",
              "      <td>3</td>\n",
              "      <td>138</td>\n",
              "      <td>282</td>\n",
              "      <td>1</td>\n",
              "      <td>0</td>\n",
              "      <td>174</td>\n",
              "      <td>0</td>\n",
              "      <td>1.40</td>\n",
              "      <td>1</td>\n",
              "      <td>1</td>\n",
              "      <td>2</td>\n",
              "      <td>1</td>\n",
              "    </tr>\n",
              "    <tr>\n",
              "      <th>559</th>\n",
              "      <td>67</td>\n",
              "      <td>1</td>\n",
              "      <td>0</td>\n",
              "      <td>120</td>\n",
              "      <td>237</td>\n",
              "      <td>0</td>\n",
              "      <td>1</td>\n",
              "      <td>71</td>\n",
              "      <td>0</td>\n",
              "      <td>1.00</td>\n",
              "      <td>1</td>\n",
              "      <td>0</td>\n",
              "      <td>2</td>\n",
              "      <td>1</td>\n",
              "    </tr>\n",
              "    <tr>\n",
              "      <th>684</th>\n",
              "      <td>60</td>\n",
              "      <td>1</td>\n",
              "      <td>2</td>\n",
              "      <td>140</td>\n",
              "      <td>185</td>\n",
              "      <td>0</td>\n",
              "      <td>0</td>\n",
              "      <td>155</td>\n",
              "      <td>0</td>\n",
              "      <td>3.00</td>\n",
              "      <td>1</td>\n",
              "      <td>0</td>\n",
              "      <td>2</td>\n",
              "      <td>1</td>\n",
              "    </tr>\n",
              "  </tbody>\n",
              "</table>\n",
              "<p>1025 rows × 14 columns</p>\n",
              "</div>"
            ],
            "text/plain": [
              "     age  sex  cp  trestbps  chol  fbs  restecg  thalach  exang  oldpeak  \\\n",
              "807  44    1    2     130     233   0      1       179      1     0.40     \n",
              "27   58    0    1     136     319   1      0       152      0     0.00     \n",
              "77   63    1    0     140     187   0      0       144      1     4.00     \n",
              "406  58    1    2     140     211   1      0       165      0     0.00     \n",
              "886  61    1    0     120     260   0      1       140      1     3.60     \n",
              "..   ...  ...  ..       ...   ...  ...      ...      ...    ...      ...   \n",
              "835  49    1    2     118     149   0      0       126      0     0.80     \n",
              "192  67    0    2     115     564   0      0       160      0     1.60     \n",
              "629  65    1    3     138     282   1      0       174      0     1.40     \n",
              "559  67    1    0     120     237   0      1        71      0     1.00     \n",
              "684  60    1    2     140     185   0      0       155      0     3.00     \n",
              "\n",
              "     slope  ca  thal  target  \n",
              "807    2     0    2      0    \n",
              "27     2     2    2      1    \n",
              "77     2     2    3      1    \n",
              "406    2     0    2      0    \n",
              "886    1     1    3      1    \n",
              "..     ...  ..   ...     ...  \n",
              "835    2     3    2      1    \n",
              "192    1     0    3      0    \n",
              "629    1     1    2      1    \n",
              "559    1     0    2      1    \n",
              "684    1     0    2      1    \n",
              "\n",
              "[1025 rows x 14 columns]"
            ]
          },
          "execution_count": 27,
          "metadata": {},
          "output_type": "execute_result"
        }
      ],
      "source": [
        "\n",
        "\n",
        "from autoviz.AutoViz_Class import AutoViz_Class\n",
        "import matplotlib.pyplot as plt\n",
        "plt.style.use('dark_background')\n",
        "\n",
        "AV = AutoViz_Class()\n",
        "\n",
        "AV.AutoViz(\n",
        "    filename='',\n",
        "    dfte=df,\n",
        "    depVar='target',\n",
        "    verbose=2, # 0: 간단히 표시; 1: 자세히 표시; 2: 파일로 저장\n",
        "    max_rows_analyzed=df.shape[0],\n",
        "    max_cols_analyzed=df.shape[1])"
      ]
    },
    {
      "cell_type": "markdown",
      "id": "27e2250c",
      "metadata": {},
      "source": [
        "# PyCaret을 활용한 데이터 전처리"
      ]
    },
    {
      "cell_type": "code",
      "execution_count": 8,
      "id": "0caedb69",
      "metadata": {},
      "outputs": [
        {
          "ename": "RuntimeError",
          "evalue": "('Pycaret only supports python 3.9, 3.10, 3.11. Your actual Python version: ', sys.version_info(major=3, minor=12, micro=7, releaselevel='final', serial=0), 'Please DOWNGRADE your Python version.')",
          "output_type": "error",
          "traceback": [
            "\u001b[1;31m---------------------------------------------------------------------------\u001b[0m",
            "\u001b[1;31mRuntimeError\u001b[0m                              Traceback (most recent call last)",
            "Cell \u001b[1;32mIn[8], line 3\u001b[0m\n\u001b[0;32m      1\u001b[0m \u001b[38;5;66;03m# PyCaret을 사요해 데이터 전처리\u001b[39;00m\n\u001b[1;32m----> 3\u001b[0m \u001b[38;5;28;01mfrom\u001b[39;00m \u001b[38;5;21;01mpycaret\u001b[39;00m\u001b[38;5;21;01m.\u001b[39;00m\u001b[38;5;21;01mclassification\u001b[39;00m \u001b[38;5;28;01mimport\u001b[39;00m \u001b[38;5;241m*\u001b[39m\n\u001b[0;32m      5\u001b[0m clf_setup \u001b[38;5;241m=\u001b[39m setup(\n\u001b[0;32m      6\u001b[0m     data \u001b[38;5;241m=\u001b[39mdf,\n\u001b[0;32m      7\u001b[0m     target\u001b[38;5;241m=\u001b[39m\u001b[38;5;124m'\u001b[39m\u001b[38;5;124mtarget\u001b[39m\u001b[38;5;124m'\u001b[39m,\n\u001b[0;32m      8\u001b[0m     session_id\u001b[38;5;241m=\u001b[39m\u001b[38;5;241m123\u001b[39m,\n\u001b[0;32m      9\u001b[0m     silent \u001b[38;5;241m=\u001b[39m \u001b[38;5;28;01mTrue\u001b[39;00m\n\u001b[0;32m     10\u001b[0m )\n",
            "File \u001b[1;32mc:\\Users\\302\\anaconda3\\Lib\\site-packages\\pycaret\\__init__.py:22\u001b[0m\n\u001b[0;32m     16\u001b[0m     \u001b[38;5;28;01mraise\u001b[39;00m \u001b[38;5;167;01mRuntimeError\u001b[39;00m(\n\u001b[0;32m     17\u001b[0m         \u001b[38;5;124m\"\u001b[39m\u001b[38;5;124mPycaret only supports python 3.9, 3.10, 3.11. Your actual Python version: \u001b[39m\u001b[38;5;124m\"\u001b[39m,\n\u001b[0;32m     18\u001b[0m         sys\u001b[38;5;241m.\u001b[39mversion_info,\n\u001b[0;32m     19\u001b[0m         \u001b[38;5;124m\"\u001b[39m\u001b[38;5;124mPlease UPGRADE your Python version.\u001b[39m\u001b[38;5;124m\"\u001b[39m,\n\u001b[0;32m     20\u001b[0m     )\n\u001b[0;32m     21\u001b[0m \u001b[38;5;28;01melif\u001b[39;00m sys\u001b[38;5;241m.\u001b[39mversion_info \u001b[38;5;241m>\u001b[39m\u001b[38;5;241m=\u001b[39m (\u001b[38;5;241m3\u001b[39m, \u001b[38;5;241m12\u001b[39m):\n\u001b[1;32m---> 22\u001b[0m     \u001b[38;5;28;01mraise\u001b[39;00m \u001b[38;5;167;01mRuntimeError\u001b[39;00m(\n\u001b[0;32m     23\u001b[0m         \u001b[38;5;124m\"\u001b[39m\u001b[38;5;124mPycaret only supports python 3.9, 3.10, 3.11. Your actual Python version: \u001b[39m\u001b[38;5;124m\"\u001b[39m,\n\u001b[0;32m     24\u001b[0m         sys\u001b[38;5;241m.\u001b[39mversion_info,\n\u001b[0;32m     25\u001b[0m         \u001b[38;5;124m\"\u001b[39m\u001b[38;5;124mPlease DOWNGRADE your Python version.\u001b[39m\u001b[38;5;124m\"\u001b[39m,\n\u001b[0;32m     26\u001b[0m     )\n",
            "\u001b[1;31mRuntimeError\u001b[0m: ('Pycaret only supports python 3.9, 3.10, 3.11. Your actual Python version: ', sys.version_info(major=3, minor=12, micro=7, releaselevel='final', serial=0), 'Please DOWNGRADE your Python version.')"
          ]
        }
      ],
      "source": [
        "# PyCaret을 사요해 데이터 전처리\n",
        "\n",
        "from pycaret.classification import *\n",
        "\n",
        "clf_setup = setup(\n",
        "    data =df,\n",
        "    target='target',\n",
        "    session_id=123,\n",
        "    silent = True\n",
        ")"
      ]
    },
    {
      "cell_type": "markdown",
      "id": "d0755f58",
      "metadata": {
        "id": "d0755f58"
      },
      "source": [
        "# LazyPredict\n",
        "\n",
        "AutoML with scikit-learn\n",
        "\n",
        "https://lazypredict.readthedocs.io/en/latest/\n",
        "\n",
        "자동으로 베스트 모델 찾아주는 패키지"
      ]
    },
    {
      "cell_type": "code",
      "execution_count": null,
      "id": "07f8d848",
      "metadata": {},
      "outputs": [],
      "source": [
        "# AutoViz 객체 생성\n",
        "AV = AutoViz_Class()\n",
        "\n",
        "# 데이터프레임을 사용하여 시각화\n",
        "df = ...  # 데이터프레임 로드\n",
        "AV.AutoViz(\n",
        "    filename='',  # 파일 경로 (데이터프레임을 사용할 경우 빈 문자열)\n",
        "    dfte=df,      # 데이터프레임\n",
        "    depVar='target',  # 종속 변수 (타겟 변수)\n",
        "    verbose=2,    # 출력 수준 (0: 간단히, 1: 자세히, 2: 파일 저장)\n",
        "    max_rows_analyzed=1500,  # 분석할 최대 행 수\n",
        "    max_cols_analyzed=30     # 분석할 최대 열 수\n",
        ")"
      ]
    },
    {
      "cell_type": "code",
      "execution_count": null,
      "id": "dcb54aa4",
      "metadata": {
        "id": "dcb54aa4"
      },
      "outputs": [],
      "source": [
        "#!pip install scikit-learn==0.23.1\n",
        "%pip install -q lazypredict"
      ]
    },
    {
      "cell_type": "markdown",
      "id": "71d410e7",
      "metadata": {
        "id": "71d410e7"
      },
      "source": [
        "### 데이터 준비"
      ]
    },
    {
      "cell_type": "code",
      "execution_count": null,
      "id": "e92e317c",
      "metadata": {
        "colab": {
          "base_uri": "https://localhost:8080/"
        },
        "id": "e92e317c",
        "outputId": "27df5ab0-4c0f-48c0-e6cf-62ad56b161f3"
      },
      "outputs": [],
      "source": [
        "y_data = df.pop('target')\n",
        "x_data = df\n",
        "\n",
        "print(x_data.shape)\n",
        "print(y_data.shape)"
      ]
    },
    {
      "cell_type": "code",
      "execution_count": null,
      "id": "b4266e65",
      "metadata": {
        "colab": {
          "base_uri": "https://localhost:8080/"
        },
        "id": "b4266e65",
        "outputId": "30a598b5-6f7a-4d67-f106-fbd126b8e184"
      },
      "outputs": [],
      "source": [
        "from sklearn.model_selection import train_test_split\n",
        "\n",
        "x_train, x_test, y_train, y_test = train_test_split(\n",
        "    x_data,\n",
        "    y_data,\n",
        "    test_size=0.2,\n",
        "    random_state=2022,\n",
        "    stratify=y_data) # 클래스 비율을 동일하게 분할한다\n",
        "\n",
        "print(x_train.shape, y_train.shape)\n",
        "print(x_test.shape, y_test.shape)"
      ]
    },
    {
      "cell_type": "markdown",
      "id": "d4afea3a",
      "metadata": {
        "id": "d4afea3a"
      },
      "source": [
        "### 모델 성능 자동 비교"
      ]
    },
    {
      "cell_type": "code",
      "execution_count": null,
      "id": "714057e5",
      "metadata": {
        "colab": {
          "base_uri": "https://localhost:8080/",
          "height": 1000
        },
        "id": "714057e5",
        "outputId": "febdd0fe-90b5-46d4-ea71-22fd7348758f"
      },
      "outputs": [],
      "source": [
        "from lazypredict.Supervised import LazyClassifier\n",
        "\n",
        "clf = LazyClassifier(verbose=0, predictions=True)\n",
        "\n",
        "models, predictions = clf.fit(x_train, x_test, y_train, y_test)\n",
        "\n",
        "models"
      ]
    },
    {
      "cell_type": "markdown",
      "id": "5feee72f",
      "metadata": {
        "id": "5feee72f"
      },
      "source": [
        "### 모델별 테스트 데이터 예측값"
      ]
    },
    {
      "cell_type": "code",
      "execution_count": null,
      "id": "2be75acf",
      "metadata": {
        "colab": {
          "base_uri": "https://localhost:8080/",
          "height": 226
        },
        "id": "2be75acf",
        "outputId": "3dd27ae9-17ee-4b14-9d66-ad0222e719e3"
      },
      "outputs": [],
      "source": [
        "predictions.head()"
      ]
    },
    {
      "cell_type": "markdown",
      "id": "f8b11382",
      "metadata": {
        "id": "f8b11382"
      },
      "source": [
        "### 모델별 분류 리포트"
      ]
    },
    {
      "cell_type": "code",
      "execution_count": null,
      "id": "97f82b3a",
      "metadata": {
        "colab": {
          "base_uri": "https://localhost:8080/"
        },
        "id": "97f82b3a",
        "outputId": "f19b4f6a-f5e8-4aa4-d215-10de6f887131",
        "scrolled": false
      },
      "outputs": [],
      "source": [
        "from sklearn.metrics import classification_report\n",
        "\n",
        "for model_name in predictions.columns.tolist():\n",
        "    print(f'{model_name}')\n",
        "    print(classification_report(y_test, predictions[model_name]))"
      ]
    },
    {
      "cell_type": "markdown",
      "id": "47f6947e",
      "metadata": {
        "id": "47f6947e"
      },
      "source": [
        "### 성능 좋은 LightGBM 사용"
      ]
    },
    {
      "cell_type": "code",
      "execution_count": null,
      "id": "d6c23572",
      "metadata": {
        "colab": {
          "base_uri": "https://localhost:8080/"
        },
        "id": "d6c23572",
        "outputId": "3eda9321-d286-4e3c-ad3b-9cf742eaa7a8"
      },
      "outputs": [],
      "source": [
        "from lightgbm import LGBMClassifier\n",
        "from sklearn.metrics import accuracy_score\n",
        "\n",
        "lgbm = LGBMClassifier()\n",
        "\n",
        "lgbm.fit(x_train, y_train)\n",
        "\n",
        "y_pred = lgbm.predict(x_test)\n",
        "\n",
        "accuracy_score(y_pred, y_test)"
      ]
    },
    {
      "cell_type": "markdown",
      "id": "500f1ee1",
      "metadata": {
        "id": "500f1ee1"
      },
      "source": [
        "# 파라미터 자동 튜닝"
      ]
    },
    {
      "cell_type": "markdown",
      "id": "a689266f",
      "metadata": {
        "id": "a689266f"
      },
      "source": [
        "### SVM 튜닝없이 돌렸을때"
      ]
    },
    {
      "cell_type": "code",
      "execution_count": null,
      "id": "5c5ed6f9",
      "metadata": {
        "colab": {
          "base_uri": "https://localhost:8080/"
        },
        "id": "5c5ed6f9",
        "outputId": "378a85a5-110a-48de-ae7b-21bb37c4103d"
      },
      "outputs": [],
      "source": [
        "import numpy as np\n",
        "from sklearn.svm import SVC\n",
        "from sklearn.pipeline import Pipeline\n",
        "from sklearn.preprocessing import StandardScaler\n",
        "\n",
        "X_train = pd.DataFrame(x_train)\n",
        "X_test = pd.DataFrame(x_test)\n",
        "\n",
        "pipe = Pipeline(steps=[\n",
        "    (\"preprocessor\", StandardScaler()),\n",
        "    (\"classifier\", SVC())\n",
        "])\n",
        "\n",
        "pipe.fit(x_train, y_train)\n",
        "\n",
        "y_pred = pipe.predict(x_test)\n",
        "\n",
        "accuracy_score(y_pred, y_test)"
      ]
    },
    {
      "cell_type": "code",
      "execution_count": null,
      "id": "0059dc25",
      "metadata": {
        "colab": {
          "base_uri": "https://localhost:8080/"
        },
        "id": "0059dc25",
        "outputId": "4dca285c-bac1-4fd5-e791-ae8e30e9b62f"
      },
      "outputs": [],
      "source": [
        "pipe['classifier'].get_params()"
      ]
    },
    {
      "cell_type": "markdown",
      "id": "6a616bfd",
      "metadata": {
        "id": "6a616bfd"
      },
      "source": [
        "## Scikit-Optimize\n",
        "\n",
        "Scikit-learn 의 머신러닝 모델들의 파라미터 자동 튜닝 패키지\n",
        "\n",
        "https://scikit-optimize.github.io/stable/"
      ]
    },
    {
      "cell_type": "code",
      "execution_count": null,
      "id": "9ea60c9f",
      "metadata": {
        "colab": {
          "base_uri": "https://localhost:8080/"
        },
        "id": "9ea60c9f",
        "outputId": "9dac99ca-3b09-4ac9-dc2d-3f9431c60d7a"
      },
      "outputs": [],
      "source": [
        "from skopt import BayesSearchCV\n",
        "\n",
        "pipe = Pipeline(steps=[\n",
        "    (\"preprocessor\", StandardScaler()),\n",
        "    (\"classifier\", SVC())\n",
        "])\n",
        "\n",
        "opt = BayesSearchCV(\n",
        "    pipe,\n",
        "    {\n",
        "        'classifier__C': (1e-1, 1e+1, 'log-uniform'),\n",
        "        'classifier__gamma': (1e-6, 1e+1, 'log-uniform'),\n",
        "        'classifier__degree': (1, 8),  # integer valued parameter\n",
        "        'classifier__kernel': ['linear', 'poly', 'rbf'],  # categorical parameter\n",
        "    },\n",
        "    n_iter=8,\n",
        "    cv=3\n",
        ")\n",
        "\n",
        "opt.fit(x_train, y_train)\n",
        "\n",
        "print(\"val. score: %s\" % opt.best_score_)\n",
        "print(\"test score: %s\" % opt.score(x_test, y_test))"
      ]
    },
    {
      "cell_type": "code",
      "execution_count": null,
      "id": "d981640e",
      "metadata": {
        "colab": {
          "base_uri": "https://localhost:8080/"
        },
        "id": "d981640e",
        "outputId": "4a9bca12-188f-421f-8805-3eee931b56b7"
      },
      "outputs": [],
      "source": [
        "opt.best_params_"
      ]
    },
    {
      "cell_type": "code",
      "execution_count": null,
      "id": "88f0101e",
      "metadata": {},
      "outputs": [],
      "source": []
    }
  ],
  "metadata": {
    "colab": {
      "provenance": []
    },
    "kernelspec": {
      "display_name": "base",
      "language": "python",
      "name": "python3"
    },
    "language_info": {
      "codemirror_mode": {
        "name": "ipython",
        "version": 3
      },
      "file_extension": ".py",
      "mimetype": "text/x-python",
      "name": "python",
      "nbconvert_exporter": "python",
      "pygments_lexer": "ipython3",
      "version": "3.12.7"
    }
  },
  "nbformat": 4,
  "nbformat_minor": 5
}
